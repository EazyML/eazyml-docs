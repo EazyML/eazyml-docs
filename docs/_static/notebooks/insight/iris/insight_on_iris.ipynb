{
 "cells": [
  {
   "cell_type": "markdown",
   "id": "9145c720-0326-4724-b2e3-60f436d12858",
   "metadata": {},
   "source": [
    "# EazyML Insights Template"
   ]
  },
  {
   "cell_type": "markdown",
   "id": "a616f634-ad67-455a-92e5-e7aee68e5ac6",
   "metadata": {
    "jp-MarkdownHeadingCollapsed": true
   },
   "source": [
    "## Define Imports"
   ]
  },
  {
   "cell_type": "code",
   "execution_count": null,
   "id": "2631476b",
   "metadata": {},
   "outputs": [],
   "source": [
    "!pip install --upgrade eazyml-insight\n",
    "!pip install --upgrade eazyml-automl\n",
    "!pip install gdown python-dotenv"
   ]
  },
  {
   "cell_type": "code",
   "execution_count": 2,
   "id": "b5f96df4-96d0-49e5-8875-c89b40fe2299",
   "metadata": {},
   "outputs": [
    {
     "data": {
      "text/plain": [
       "True"
      ]
     },
     "execution_count": 2,
     "metadata": {},
     "output_type": "execute_result"
    }
   ],
   "source": [
    "import os\n",
    "from eazyml_insight import (\n",
    "    ez_insight,\n",
    "    ez_init,\n",
    "    ez_validate\n",
    ")\n",
    "\n",
    "from eazyml import ez_display_df\n",
    "import gdown\n",
    "import pandas as pd\n",
    "\n",
    "from dotenv import load_dotenv\n",
    "load_dotenv()"
   ]
  },
  {
   "cell_type": "markdown",
   "id": "ed6dd06f",
   "metadata": {
    "jp-MarkdownHeadingCollapsed": true
   },
   "source": [
    "## 1. Initialize EazyML"
   ]
  },
  {
   "cell_type": "code",
   "execution_count": 3,
   "id": "9368081b-11aa-4b71-bff6-af121ff26423",
   "metadata": {},
   "outputs": [
    {
     "data": {
      "text/plain": [
       "{'success': True,\n",
       " 'message': 'Initialized successfully. You may revoke your consent to sharing usage stats anytime. You have exclusive paid access.'}"
      ]
     },
     "execution_count": 3,
     "metadata": {},
     "output_type": "execute_result"
    }
   ],
   "source": [
    "ez_init(access_key=os.getenv('EAZYML_ACCESS_KEY'))"
   ]
  },
  {
   "cell_type": "markdown",
   "id": "d2ec63d8-35da-4ee5-9c38-92cee982ed7e",
   "metadata": {
    "jp-MarkdownHeadingCollapsed": true
   },
   "source": [
    "## 2. Define Dataset Files and Outcome Variable"
   ]
  },
  {
   "cell_type": "code",
   "execution_count": null,
   "id": "a35c10c1",
   "metadata": {},
   "outputs": [],
   "source": [
    "gdown.download_folder(id='1-RO9K9-YYGK7Wp__ioth0xPD8XqtgvKT')"
   ]
  },
  {
   "cell_type": "code",
   "execution_count": 5,
   "id": "81aa3231-9669-4a5c-a68e-b51b42d1d66c",
   "metadata": {},
   "outputs": [],
   "source": [
    "# Names of the files that will be used by EazyML APIs\n",
    "eazyml_train_file = os.path.join('data', 'IRIS_Train.csv')\n",
    "eazyml_test_file = os.path.join('data', 'IRIS_Test.csv')\n",
    "\n",
    "# The column name for outcome of interest\n",
    "outcome = \"species\""
   ]
  },
  {
   "cell_type": "markdown",
   "id": "475515b3-34aa-4615-80f2-4fc5f8474bf0",
   "metadata": {
    "jp-MarkdownHeadingCollapsed": true
   },
   "source": [
    "## 3. EazyML Insights"
   ]
  },
  {
   "cell_type": "markdown",
   "id": "9255cabc-c8a2-4074-931c-afa9381bcc84",
   "metadata": {
    "jp-MarkdownHeadingCollapsed": true
   },
   "source": [
    "### 3.1 Auto-derive Insights"
   ]
  },
  {
   "cell_type": "markdown",
   "id": "6f11a093-65cd-408f-bf61-908f8a83e49d",
   "metadata": {
    "jp-MarkdownHeadingCollapsed": true
   },
   "source": [
    "#### 3.1.1 Build Insight Model"
   ]
  },
  {
   "cell_type": "code",
   "execution_count": 6,
   "id": "807b3ba0",
   "metadata": {},
   "outputs": [],
   "source": [
    "response = ez_insight(eazyml_train_file, outcome, options={})"
   ]
  },
  {
   "cell_type": "markdown",
   "id": "b6cfa82d-8292-4519-a0a1-e21611dda509",
   "metadata": {
    "jp-MarkdownHeadingCollapsed": true
   },
   "source": [
    "#### 3.1.2 Convert Response to DataFrame"
   ]
  },
  {
   "cell_type": "code",
   "execution_count": 7,
   "id": "457bdb16-925b-4800-9e70-5e2cdff3d8a0",
   "metadata": {},
   "outputs": [],
   "source": [
    "insights_df = pd.DataFrame(response['insights']['data'], columns=response['insights']['columns'])"
   ]
  },
  {
   "cell_type": "markdown",
   "id": "c43f5578-778c-4560-b2cd-e6b96cf4a810",
   "metadata": {
    "jp-MarkdownHeadingCollapsed": true
   },
   "source": [
    "#### 3.1.3 Display Augmented Insights"
   ]
  },
  {
   "cell_type": "markdown",
   "id": "b8054a64-2c2b-4639-aa0e-3196d379fbea",
   "metadata": {
    "jp-MarkdownHeadingCollapsed": true
   },
   "source": [
    "##### 3.1.3.1 For Class Iris-virginica"
   ]
  },
  {
   "cell_type": "code",
   "execution_count": 8,
   "id": "9e5dc70f-fc64-4059-ad23-407c58978198",
   "metadata": {},
   "outputs": [
    {
     "data": {
      "text/html": [
       "<style type=\"text/css\">\n",
       "#T_f23d9 th {\n",
       "  text-align: left;\n",
       "}\n",
       "#T_f23d9 td {\n",
       "  text-align: left;\n",
       "}\n",
       "</style>\n",
       "<table id=\"T_f23d9\">\n",
       "  <thead>\n",
       "    <tr>\n",
       "      <th class=\"blank level0\" >&nbsp;</th>\n",
       "      <th id=\"T_f23d9_level0_col0\" class=\"col_heading level0 col0\" >species</th>\n",
       "      <th id=\"T_f23d9_level0_col1\" class=\"col_heading level0 col1\" >Augmented Intelligence Insights</th>\n",
       "      <th id=\"T_f23d9_level0_col2\" class=\"col_heading level0 col2\" >Insight Scores</th>\n",
       "    </tr>\n",
       "  </thead>\n",
       "  <tbody>\n",
       "    <tr>\n",
       "      <th id=\"T_f23d9_level0_row0\" class=\"row_heading level0 row0\" >0</th>\n",
       "      <td id=\"T_f23d9_row0_col0\" class=\"data row0 col0\" >Iris-virginica</td>\n",
       "      <td id=\"T_f23d9_row0_col1\" class=\"data row0 col1\" >sepal_length is greater than 5.55,\n",
       "petal_width is greater than 1.75</td>\n",
       "      <td id=\"T_f23d9_row0_col2\" class=\"data row0 col2\" >0.836000</td>\n",
       "    </tr>\n",
       "    <tr>\n",
       "      <th id=\"T_f23d9_level0_row1\" class=\"row_heading level0 row1\" >1</th>\n",
       "      <td id=\"T_f23d9_row1_col0\" class=\"data row1 col0\" >Iris-virginica</td>\n",
       "      <td id=\"T_f23d9_row1_col1\" class=\"data row1 col1\" >petal_width is greater than 0.8,\n",
       "petal_length is greater than 4.75</td>\n",
       "      <td id=\"T_f23d9_row1_col2\" class=\"data row1 col2\" >0.833900</td>\n",
       "    </tr>\n",
       "    <tr>\n",
       "      <th id=\"T_f23d9_level0_row2\" class=\"row_heading level0 row2\" >2</th>\n",
       "      <td id=\"T_f23d9_row2_col0\" class=\"data row2 col0\" >Iris-virginica</td>\n",
       "      <td id=\"T_f23d9_row2_col1\" class=\"data row2 col1\" >petal_width is greater than 1.75</td>\n",
       "      <td id=\"T_f23d9_row2_col2\" class=\"data row2 col2\" >0.802800</td>\n",
       "    </tr>\n",
       "    <tr>\n",
       "      <th id=\"T_f23d9_level0_row3\" class=\"row_heading level0 row3\" >3</th>\n",
       "      <td id=\"T_f23d9_row3_col0\" class=\"data row3 col0\" >Iris-virginica</td>\n",
       "      <td id=\"T_f23d9_row3_col1\" class=\"data row3 col1\" >sepal_length is greater than 6.25,\n",
       "sepal_width is less than equal to 3.7,\n",
       "petal_length is greater than 5.05</td>\n",
       "      <td id=\"T_f23d9_row3_col2\" class=\"data row3 col2\" >0.752600</td>\n",
       "    </tr>\n",
       "    <tr>\n",
       "      <th id=\"T_f23d9_level0_row4\" class=\"row_heading level0 row4\" >4</th>\n",
       "      <td id=\"T_f23d9_row4_col0\" class=\"data row4 col0\" >Iris-virginica</td>\n",
       "      <td id=\"T_f23d9_row4_col1\" class=\"data row4 col1\" >sepal_length is greater than 6.25,\n",
       "sepal_width is less than equal to 3.7</td>\n",
       "      <td id=\"T_f23d9_row4_col2\" class=\"data row4 col2\" >0.583500</td>\n",
       "    </tr>\n",
       "  </tbody>\n",
       "</table>\n"
      ],
      "text/plain": [
       "<IPython.core.display.HTML object>"
      ]
     },
     "metadata": {},
     "output_type": "display_data"
    }
   ],
   "source": [
    "insights_df1 = insights_df[insights_df[outcome] == 'Iris-virginica']\n",
    "ez_display_df(insights_df1.head())"
   ]
  },
  {
   "cell_type": "markdown",
   "id": "2b29e4fb-2bac-4ab4-994e-1aa262a4baac",
   "metadata": {
    "jp-MarkdownHeadingCollapsed": true
   },
   "source": [
    "##### 3.1.3.2 For Class Iris-versicolor"
   ]
  },
  {
   "cell_type": "code",
   "execution_count": 9,
   "id": "f84a06f9-2d67-4c0f-b5c8-070fa6a52f18",
   "metadata": {},
   "outputs": [
    {
     "data": {
      "text/html": [
       "<style type=\"text/css\">\n",
       "#T_ed71f th {\n",
       "  text-align: left;\n",
       "}\n",
       "#T_ed71f td {\n",
       "  text-align: left;\n",
       "}\n",
       "</style>\n",
       "<table id=\"T_ed71f\">\n",
       "  <thead>\n",
       "    <tr>\n",
       "      <th class=\"blank level0\" >&nbsp;</th>\n",
       "      <th id=\"T_ed71f_level0_col0\" class=\"col_heading level0 col0\" >species</th>\n",
       "      <th id=\"T_ed71f_level0_col1\" class=\"col_heading level0 col1\" >Augmented Intelligence Insights</th>\n",
       "      <th id=\"T_ed71f_level0_col2\" class=\"col_heading level0 col2\" >Insight Scores</th>\n",
       "    </tr>\n",
       "  </thead>\n",
       "  <tbody>\n",
       "    <tr>\n",
       "      <th id=\"T_ed71f_level0_row0\" class=\"row_heading level0 row0\" >20</th>\n",
       "      <td id=\"T_ed71f_row0_col0\" class=\"data row0 col0\" >Iris-versicolor</td>\n",
       "      <td id=\"T_ed71f_row0_col1\" class=\"data row0 col1\" >petal_width is greater than 0.8,\n",
       "petal_length is less than equal to 4.75</td>\n",
       "      <td id=\"T_ed71f_row0_col2\" class=\"data row0 col2\" >0.862100</td>\n",
       "    </tr>\n",
       "    <tr>\n",
       "      <th id=\"T_ed71f_level0_row1\" class=\"row_heading level0 row1\" >21</th>\n",
       "      <td id=\"T_ed71f_row1_col0\" class=\"data row1 col0\" >Iris-versicolor</td>\n",
       "      <td id=\"T_ed71f_row1_col1\" class=\"data row1 col1\" >petal_width in ( 0.8, 1.75 )</td>\n",
       "      <td id=\"T_ed71f_row1_col2\" class=\"data row1 col2\" >0.843200</td>\n",
       "    </tr>\n",
       "    <tr>\n",
       "      <th id=\"T_ed71f_level0_row2\" class=\"row_heading level0 row2\" >22</th>\n",
       "      <td id=\"T_ed71f_row2_col0\" class=\"data row2 col0\" >Iris-versicolor</td>\n",
       "      <td id=\"T_ed71f_row2_col1\" class=\"data row2 col1\" >petal_width in ( 0.8, 1.75 ),\n",
       "petal_length is less than equal to 4.95,\n",
       "sepal_width is greater than 2.55</td>\n",
       "      <td id=\"T_ed71f_row2_col2\" class=\"data row2 col2\" >0.707500</td>\n",
       "    </tr>\n",
       "    <tr>\n",
       "      <th id=\"T_ed71f_level0_row3\" class=\"row_heading level0 row3\" >23</th>\n",
       "      <td id=\"T_ed71f_row3_col0\" class=\"data row3 col0\" >Iris-versicolor</td>\n",
       "      <td id=\"T_ed71f_row3_col1\" class=\"data row3 col1\" >sepal_length is greater than 5.55,\n",
       "petal_width in ( 0.7, 1.75 ),\n",
       "petal_length is less than equal to 4.95</td>\n",
       "      <td id=\"T_ed71f_row3_col2\" class=\"data row3 col2\" >0.707500</td>\n",
       "    </tr>\n",
       "    <tr>\n",
       "      <th id=\"T_ed71f_level0_row4\" class=\"row_heading level0 row4\" >24</th>\n",
       "      <td id=\"T_ed71f_row4_col0\" class=\"data row4 col0\" >Iris-versicolor</td>\n",
       "      <td id=\"T_ed71f_row4_col1\" class=\"data row4 col1\" >sepal_length in ( 5.55, 6.25 ),\n",
       "sepal_width in ( 2.65, 3.7 ),\n",
       "petal_width is less than equal to 1.7</td>\n",
       "      <td id=\"T_ed71f_row4_col2\" class=\"data row4 col2\" >0.698400</td>\n",
       "    </tr>\n",
       "  </tbody>\n",
       "</table>\n"
      ],
      "text/plain": [
       "<IPython.core.display.HTML object>"
      ]
     },
     "metadata": {},
     "output_type": "display_data"
    }
   ],
   "source": [
    "insights_df0 = insights_df[insights_df[outcome] == 'Iris-versicolor']\n",
    "ez_display_df(insights_df0.head())"
   ]
  },
  {
   "cell_type": "markdown",
   "id": "4ca79cbe-1360-4a57-a9e8-731efe77e4c4",
   "metadata": {
    "jp-MarkdownHeadingCollapsed": true
   },
   "source": [
    "### 3.2 Validation of Insights"
   ]
  },
  {
   "cell_type": "markdown",
   "id": "ee5cb3fd-9213-4419-8916-9bf0db468945",
   "metadata": {
    "jp-MarkdownHeadingCollapsed": true
   },
   "source": [
    "#### 3.2.1 Validating Insights"
   ]
  },
  {
   "cell_type": "code",
   "execution_count": 10,
   "id": "dabd023a-0cb7-4077-a938-94e3142234a7",
   "metadata": {},
   "outputs": [],
   "source": [
    "record_number = [3, 5]\n",
    "options = {'record_number': record_number}\n",
    "val_response = ez_validate(eazyml_train_file, outcome, response['insights'], eazyml_train_file, options=options)"
   ]
  },
  {
   "cell_type": "markdown",
   "id": "cf766334-ddfb-48aa-ab78-ef98524e7029",
   "metadata": {
    "jp-MarkdownHeadingCollapsed": true
   },
   "source": [
    "#### 3.2.2 Convert Response to DataFrame"
   ]
  },
  {
   "cell_type": "code",
   "execution_count": 11,
   "id": "ada28e26-d148-4c1b-be1b-b0f3c194a008",
   "metadata": {},
   "outputs": [],
   "source": [
    "validate_df = pd.DataFrame(val_response['validations']['data'], columns=val_response['validations']['columns'])"
   ]
  },
  {
   "cell_type": "markdown",
   "id": "338fbdba-3ed5-477f-9896-fbf2a2881ebf",
   "metadata": {
    "jp-MarkdownHeadingCollapsed": true
   },
   "source": [
    "#### 3.2.3 Display Validation Metrics"
   ]
  },
  {
   "cell_type": "markdown",
   "id": "7199c71e-280b-4d9c-83de-0feb18b7139b",
   "metadata": {
    "jp-MarkdownHeadingCollapsed": true
   },
   "source": [
    "##### 3.2.3.1 For Class Iris-virginica"
   ]
  },
  {
   "cell_type": "code",
   "execution_count": 12,
   "id": "5989fbce-d0dc-4b98-9077-61a1674b6898",
   "metadata": {},
   "outputs": [
    {
     "data": {
      "text/html": [
       "<style type=\"text/css\">\n",
       "#T_b68fe th {\n",
       "  text-align: left;\n",
       "}\n",
       "#T_b68fe td {\n",
       "  text-align: left;\n",
       "}\n",
       "</style>\n",
       "<table id=\"T_b68fe\">\n",
       "  <thead>\n",
       "    <tr>\n",
       "      <th class=\"blank level0\" >&nbsp;</th>\n",
       "      <th id=\"T_b68fe_level0_col0\" class=\"col_heading level0 col0\" >Test Data Point Number</th>\n",
       "      <th id=\"T_b68fe_level0_col1\" class=\"col_heading level0 col1\" >species</th>\n",
       "      <th id=\"T_b68fe_level0_col2\" class=\"col_heading level0 col2\" >Augmented Intelligence Insights</th>\n",
       "      <th id=\"T_b68fe_level0_col3\" class=\"col_heading level0 col3\" >Insight Scores</th>\n",
       "      <th id=\"T_b68fe_level0_col4\" class=\"col_heading level0 col4\" >Accuracy</th>\n",
       "      <th id=\"T_b68fe_level0_col5\" class=\"col_heading level0 col5\" >Coverage</th>\n",
       "      <th id=\"T_b68fe_level0_col6\" class=\"col_heading level0 col6\" >Population</th>\n",
       "      <th id=\"T_b68fe_level0_col7\" class=\"col_heading level0 col7\" >Accuracy Count</th>\n",
       "      <th id=\"T_b68fe_level0_col8\" class=\"col_heading level0 col8\" >Total Population</th>\n",
       "    </tr>\n",
       "  </thead>\n",
       "  <tbody>\n",
       "    <tr>\n",
       "      <th id=\"T_b68fe_level0_row0\" class=\"row_heading level0 row0\" >28</th>\n",
       "      <td id=\"T_b68fe_row0_col0\" class=\"data row0 col0\" >29</td>\n",
       "      <td id=\"T_b68fe_row0_col1\" class=\"data row0 col1\" >Iris-virginica</td>\n",
       "      <td id=\"T_b68fe_row0_col2\" class=\"data row0 col2\" >sepal_length is greater than 5.55,\n",
       "petal_width is greater than 1.75</td>\n",
       "      <td id=\"T_b68fe_row0_col3\" class=\"data row0 col3\" >0.836000</td>\n",
       "      <td id=\"T_b68fe_row0_col4\" class=\"data row0 col4\" >0.978300</td>\n",
       "      <td id=\"T_b68fe_row0_col5\" class=\"data row0 col5\" >0.306700</td>\n",
       "      <td id=\"T_b68fe_row0_col6\" class=\"data row0 col6\" >46</td>\n",
       "      <td id=\"T_b68fe_row0_col7\" class=\"data row0 col7\" >45</td>\n",
       "      <td id=\"T_b68fe_row0_col8\" class=\"data row0 col8\" >150</td>\n",
       "    </tr>\n",
       "    <tr>\n",
       "      <th id=\"T_b68fe_level0_row1\" class=\"row_heading level0 row1\" >29</th>\n",
       "      <td id=\"T_b68fe_row1_col0\" class=\"data row1 col0\" >30</td>\n",
       "      <td id=\"T_b68fe_row1_col1\" class=\"data row1 col1\" >Iris-virginica</td>\n",
       "      <td id=\"T_b68fe_row1_col2\" class=\"data row1 col2\" >petal_width is greater than 0.8,\n",
       "petal_length is greater than 4.75</td>\n",
       "      <td id=\"T_b68fe_row1_col3\" class=\"data row1 col3\" >0.833900</td>\n",
       "      <td id=\"T_b68fe_row1_col4\" class=\"data row1 col4\" >0.890900</td>\n",
       "      <td id=\"T_b68fe_row1_col5\" class=\"data row1 col5\" >0.366700</td>\n",
       "      <td id=\"T_b68fe_row1_col6\" class=\"data row1 col6\" >55</td>\n",
       "      <td id=\"T_b68fe_row1_col7\" class=\"data row1 col7\" >49</td>\n",
       "      <td id=\"T_b68fe_row1_col8\" class=\"data row1 col8\" >150</td>\n",
       "    </tr>\n",
       "    <tr>\n",
       "      <th id=\"T_b68fe_level0_row2\" class=\"row_heading level0 row2\" >30</th>\n",
       "      <td id=\"T_b68fe_row2_col0\" class=\"data row2 col0\" >31</td>\n",
       "      <td id=\"T_b68fe_row2_col1\" class=\"data row2 col1\" >Iris-virginica</td>\n",
       "      <td id=\"T_b68fe_row2_col2\" class=\"data row2 col2\" >petal_width is greater than 1.75</td>\n",
       "      <td id=\"T_b68fe_row2_col3\" class=\"data row2 col3\" >0.802800</td>\n",
       "      <td id=\"T_b68fe_row2_col4\" class=\"data row2 col4\" >0.978300</td>\n",
       "      <td id=\"T_b68fe_row2_col5\" class=\"data row2 col5\" >0.306700</td>\n",
       "      <td id=\"T_b68fe_row2_col6\" class=\"data row2 col6\" >46</td>\n",
       "      <td id=\"T_b68fe_row2_col7\" class=\"data row2 col7\" >45</td>\n",
       "      <td id=\"T_b68fe_row2_col8\" class=\"data row2 col8\" >150</td>\n",
       "    </tr>\n",
       "    <tr>\n",
       "      <th id=\"T_b68fe_level0_row3\" class=\"row_heading level0 row3\" >31</th>\n",
       "      <td id=\"T_b68fe_row3_col0\" class=\"data row3 col0\" >32</td>\n",
       "      <td id=\"T_b68fe_row3_col1\" class=\"data row3 col1\" >Iris-virginica</td>\n",
       "      <td id=\"T_b68fe_row3_col2\" class=\"data row3 col2\" >sepal_length is greater than 6.25,\n",
       "sepal_width is less than equal to 3.7,\n",
       "petal_length is greater than 5.05</td>\n",
       "      <td id=\"T_b68fe_row3_col3\" class=\"data row3 col3\" >0.752600</td>\n",
       "      <td id=\"T_b68fe_row3_col4\" class=\"data row3 col4\" >1.000000</td>\n",
       "      <td id=\"T_b68fe_row3_col5\" class=\"data row3 col5\" >0.220000</td>\n",
       "      <td id=\"T_b68fe_row3_col6\" class=\"data row3 col6\" >33</td>\n",
       "      <td id=\"T_b68fe_row3_col7\" class=\"data row3 col7\" >33</td>\n",
       "      <td id=\"T_b68fe_row3_col8\" class=\"data row3 col8\" >150</td>\n",
       "    </tr>\n",
       "    <tr>\n",
       "      <th id=\"T_b68fe_level0_row4\" class=\"row_heading level0 row4\" >32</th>\n",
       "      <td id=\"T_b68fe_row4_col0\" class=\"data row4 col0\" >33</td>\n",
       "      <td id=\"T_b68fe_row4_col1\" class=\"data row4 col1\" >Iris-virginica</td>\n",
       "      <td id=\"T_b68fe_row4_col2\" class=\"data row4 col2\" >sepal_length is greater than 6.25,\n",
       "sepal_width is less than equal to 3.7</td>\n",
       "      <td id=\"T_b68fe_row4_col3\" class=\"data row4 col3\" >0.583500</td>\n",
       "      <td id=\"T_b68fe_row4_col4\" class=\"data row4 col4\" >0.714300</td>\n",
       "      <td id=\"T_b68fe_row4_col5\" class=\"data row4 col5\" >0.326700</td>\n",
       "      <td id=\"T_b68fe_row4_col6\" class=\"data row4 col6\" >49</td>\n",
       "      <td id=\"T_b68fe_row4_col7\" class=\"data row4 col7\" >35</td>\n",
       "      <td id=\"T_b68fe_row4_col8\" class=\"data row4 col8\" >150</td>\n",
       "    </tr>\n",
       "  </tbody>\n",
       "</table>\n"
      ],
      "text/plain": [
       "<IPython.core.display.HTML object>"
      ]
     },
     "metadata": {},
     "output_type": "display_data"
    }
   ],
   "source": [
    "validate_df1 = validate_df[validate_df[outcome] == 'Iris-virginica']\n",
    "ez_display_df(validate_df1.head())"
   ]
  },
  {
   "cell_type": "markdown",
   "id": "07a4efa2-fbdb-4846-83bc-7793d6eb4152",
   "metadata": {
    "jp-MarkdownHeadingCollapsed": true
   },
   "source": [
    "##### 3.2.3.2 For Class Iris-versicolor"
   ]
  },
  {
   "cell_type": "code",
   "execution_count": 13,
   "id": "65e244e3-2ebe-4bce-a1ac-0d118ce5bc30",
   "metadata": {},
   "outputs": [
    {
     "data": {
      "text/html": [
       "<style type=\"text/css\">\n",
       "#T_ffa14 th {\n",
       "  text-align: left;\n",
       "}\n",
       "#T_ffa14 td {\n",
       "  text-align: left;\n",
       "}\n",
       "</style>\n",
       "<table id=\"T_ffa14\">\n",
       "  <thead>\n",
       "    <tr>\n",
       "      <th class=\"blank level0\" >&nbsp;</th>\n",
       "      <th id=\"T_ffa14_level0_col0\" class=\"col_heading level0 col0\" >Test Data Point Number</th>\n",
       "      <th id=\"T_ffa14_level0_col1\" class=\"col_heading level0 col1\" >species</th>\n",
       "      <th id=\"T_ffa14_level0_col2\" class=\"col_heading level0 col2\" >Augmented Intelligence Insights</th>\n",
       "      <th id=\"T_ffa14_level0_col3\" class=\"col_heading level0 col3\" >Insight Scores</th>\n",
       "      <th id=\"T_ffa14_level0_col4\" class=\"col_heading level0 col4\" >Accuracy</th>\n",
       "      <th id=\"T_ffa14_level0_col5\" class=\"col_heading level0 col5\" >Coverage</th>\n",
       "      <th id=\"T_ffa14_level0_col6\" class=\"col_heading level0 col6\" >Population</th>\n",
       "      <th id=\"T_ffa14_level0_col7\" class=\"col_heading level0 col7\" >Accuracy Count</th>\n",
       "      <th id=\"T_ffa14_level0_col8\" class=\"col_heading level0 col8\" >Total Population</th>\n",
       "    </tr>\n",
       "  </thead>\n",
       "  <tbody>\n",
       "    <tr>\n",
       "      <th id=\"T_ffa14_level0_row0\" class=\"row_heading level0 row0\" >7</th>\n",
       "      <td id=\"T_ffa14_row0_col0\" class=\"data row0 col0\" >8</td>\n",
       "      <td id=\"T_ffa14_row0_col1\" class=\"data row0 col1\" >Iris-versicolor</td>\n",
       "      <td id=\"T_ffa14_row0_col2\" class=\"data row0 col2\" >petal_width is greater than 0.8,\n",
       "petal_length is less than equal to 4.75</td>\n",
       "      <td id=\"T_ffa14_row0_col3\" class=\"data row0 col3\" >0.862100</td>\n",
       "      <td id=\"T_ffa14_row0_col4\" class=\"data row0 col4\" >0.977800</td>\n",
       "      <td id=\"T_ffa14_row0_col5\" class=\"data row0 col5\" >0.300000</td>\n",
       "      <td id=\"T_ffa14_row0_col6\" class=\"data row0 col6\" >45</td>\n",
       "      <td id=\"T_ffa14_row0_col7\" class=\"data row0 col7\" >44</td>\n",
       "      <td id=\"T_ffa14_row0_col8\" class=\"data row0 col8\" >150</td>\n",
       "    </tr>\n",
       "    <tr>\n",
       "      <th id=\"T_ffa14_level0_row1\" class=\"row_heading level0 row1\" >8</th>\n",
       "      <td id=\"T_ffa14_row1_col0\" class=\"data row1 col0\" >9</td>\n",
       "      <td id=\"T_ffa14_row1_col1\" class=\"data row1 col1\" >Iris-versicolor</td>\n",
       "      <td id=\"T_ffa14_row1_col2\" class=\"data row1 col2\" >petal_width in ( 0.8, 1.75 )</td>\n",
       "      <td id=\"T_ffa14_row1_col3\" class=\"data row1 col3\" >0.843200</td>\n",
       "      <td id=\"T_ffa14_row1_col4\" class=\"data row1 col4\" >0.907400</td>\n",
       "      <td id=\"T_ffa14_row1_col5\" class=\"data row1 col5\" >0.360000</td>\n",
       "      <td id=\"T_ffa14_row1_col6\" class=\"data row1 col6\" >54</td>\n",
       "      <td id=\"T_ffa14_row1_col7\" class=\"data row1 col7\" >49</td>\n",
       "      <td id=\"T_ffa14_row1_col8\" class=\"data row1 col8\" >150</td>\n",
       "    </tr>\n",
       "    <tr>\n",
       "      <th id=\"T_ffa14_level0_row2\" class=\"row_heading level0 row2\" >9</th>\n",
       "      <td id=\"T_ffa14_row2_col0\" class=\"data row2 col0\" >10</td>\n",
       "      <td id=\"T_ffa14_row2_col1\" class=\"data row2 col1\" >Iris-versicolor</td>\n",
       "      <td id=\"T_ffa14_row2_col2\" class=\"data row2 col2\" >petal_width in ( 0.8, 1.75 ),\n",
       "petal_length is less than equal to 4.95,\n",
       "sepal_width is greater than 2.55</td>\n",
       "      <td id=\"T_ffa14_row2_col3\" class=\"data row2 col3\" >0.707500</td>\n",
       "      <td id=\"T_ffa14_row2_col4\" class=\"data row2 col4\" >1.000000</td>\n",
       "      <td id=\"T_ffa14_row2_col5\" class=\"data row2 col5\" >0.226700</td>\n",
       "      <td id=\"T_ffa14_row2_col6\" class=\"data row2 col6\" >34</td>\n",
       "      <td id=\"T_ffa14_row2_col7\" class=\"data row2 col7\" >34</td>\n",
       "      <td id=\"T_ffa14_row2_col8\" class=\"data row2 col8\" >150</td>\n",
       "    </tr>\n",
       "    <tr>\n",
       "      <th id=\"T_ffa14_level0_row3\" class=\"row_heading level0 row3\" >10</th>\n",
       "      <td id=\"T_ffa14_row3_col0\" class=\"data row3 col0\" >11</td>\n",
       "      <td id=\"T_ffa14_row3_col1\" class=\"data row3 col1\" >Iris-versicolor</td>\n",
       "      <td id=\"T_ffa14_row3_col2\" class=\"data row3 col2\" >sepal_length is greater than 5.55,\n",
       "petal_width in ( 0.7, 1.75 ),\n",
       "petal_length is less than equal to 4.95</td>\n",
       "      <td id=\"T_ffa14_row3_col3\" class=\"data row3 col3\" >0.707500</td>\n",
       "      <td id=\"T_ffa14_row3_col4\" class=\"data row3 col4\" >1.000000</td>\n",
       "      <td id=\"T_ffa14_row3_col5\" class=\"data row3 col5\" >0.240000</td>\n",
       "      <td id=\"T_ffa14_row3_col6\" class=\"data row3 col6\" >36</td>\n",
       "      <td id=\"T_ffa14_row3_col7\" class=\"data row3 col7\" >36</td>\n",
       "      <td id=\"T_ffa14_row3_col8\" class=\"data row3 col8\" >150</td>\n",
       "    </tr>\n",
       "    <tr>\n",
       "      <th id=\"T_ffa14_level0_row4\" class=\"row_heading level0 row4\" >11</th>\n",
       "      <td id=\"T_ffa14_row4_col0\" class=\"data row4 col0\" >12</td>\n",
       "      <td id=\"T_ffa14_row4_col1\" class=\"data row4 col1\" >Iris-versicolor</td>\n",
       "      <td id=\"T_ffa14_row4_col2\" class=\"data row4 col2\" >sepal_length in ( 5.55, 6.25 ),\n",
       "sepal_width in ( 2.65, 3.7 ),\n",
       "petal_width is less than equal to 1.7</td>\n",
       "      <td id=\"T_ffa14_row4_col3\" class=\"data row4 col3\" >0.698400</td>\n",
       "      <td id=\"T_ffa14_row4_col4\" class=\"data row4 col4\" >1.000000</td>\n",
       "      <td id=\"T_ffa14_row4_col5\" class=\"data row4 col5\" >0.126700</td>\n",
       "      <td id=\"T_ffa14_row4_col6\" class=\"data row4 col6\" >19</td>\n",
       "      <td id=\"T_ffa14_row4_col7\" class=\"data row4 col7\" >19</td>\n",
       "      <td id=\"T_ffa14_row4_col8\" class=\"data row4 col8\" >150</td>\n",
       "    </tr>\n",
       "  </tbody>\n",
       "</table>\n"
      ],
      "text/plain": [
       "<IPython.core.display.HTML object>"
      ]
     },
     "metadata": {},
     "output_type": "display_data"
    }
   ],
   "source": [
    "validate_df0 = validate_df[validate_df[outcome] == 'Iris-versicolor']\n",
    "ez_display_df(validate_df0.head())"
   ]
  },
  {
   "cell_type": "markdown",
   "id": "d6f8bc9a-9728-4cd7-8231-b446640297c1",
   "metadata": {
    "jp-MarkdownHeadingCollapsed": true
   },
   "source": [
    "#### 3.2.4 Display Filtered Data for Specific Record Numbers"
   ]
  },
  {
   "cell_type": "code",
   "execution_count": 15,
   "id": "9d7ea0e3-36d8-4bcf-95e8-0138f563cd13",
   "metadata": {},
   "outputs": [
    {
     "name": "stdout",
     "output_type": "stream",
     "text": [
      "sepal_length is less than equal to 5.55\n"
     ]
    },
    {
     "data": {
      "text/html": [
       "<style type=\"text/css\">\n",
       "#T_1cf8b th {\n",
       "  text-align: left;\n",
       "}\n",
       "#T_1cf8b td {\n",
       "  text-align: left;\n",
       "}\n",
       "</style>\n",
       "<table id=\"T_1cf8b\">\n",
       "  <thead>\n",
       "    <tr>\n",
       "      <th class=\"blank level0\" >&nbsp;</th>\n",
       "      <th id=\"T_1cf8b_level0_col0\" class=\"col_heading level0 col0\" >sepal_length</th>\n",
       "      <th id=\"T_1cf8b_level0_col1\" class=\"col_heading level0 col1\" >sepal_width</th>\n",
       "      <th id=\"T_1cf8b_level0_col2\" class=\"col_heading level0 col2\" >petal_length</th>\n",
       "      <th id=\"T_1cf8b_level0_col3\" class=\"col_heading level0 col3\" >petal_width</th>\n",
       "      <th id=\"T_1cf8b_level0_col4\" class=\"col_heading level0 col4\" >species</th>\n",
       "    </tr>\n",
       "  </thead>\n",
       "  <tbody>\n",
       "    <tr>\n",
       "      <th id=\"T_1cf8b_level0_row0\" class=\"row_heading level0 row0\" >0</th>\n",
       "      <td id=\"T_1cf8b_row0_col0\" class=\"data row0 col0\" >5.100000</td>\n",
       "      <td id=\"T_1cf8b_row0_col1\" class=\"data row0 col1\" >3.500000</td>\n",
       "      <td id=\"T_1cf8b_row0_col2\" class=\"data row0 col2\" >1.400000</td>\n",
       "      <td id=\"T_1cf8b_row0_col3\" class=\"data row0 col3\" >0.200000</td>\n",
       "      <td id=\"T_1cf8b_row0_col4\" class=\"data row0 col4\" >IRIS-SETOSA</td>\n",
       "    </tr>\n",
       "    <tr>\n",
       "      <th id=\"T_1cf8b_level0_row1\" class=\"row_heading level0 row1\" >1</th>\n",
       "      <td id=\"T_1cf8b_row1_col0\" class=\"data row1 col0\" >4.900000</td>\n",
       "      <td id=\"T_1cf8b_row1_col1\" class=\"data row1 col1\" >3.000000</td>\n",
       "      <td id=\"T_1cf8b_row1_col2\" class=\"data row1 col2\" >1.400000</td>\n",
       "      <td id=\"T_1cf8b_row1_col3\" class=\"data row1 col3\" >0.200000</td>\n",
       "      <td id=\"T_1cf8b_row1_col4\" class=\"data row1 col4\" >IRIS-SETOSA</td>\n",
       "    </tr>\n",
       "    <tr>\n",
       "      <th id=\"T_1cf8b_level0_row2\" class=\"row_heading level0 row2\" >2</th>\n",
       "      <td id=\"T_1cf8b_row2_col0\" class=\"data row2 col0\" >4.700000</td>\n",
       "      <td id=\"T_1cf8b_row2_col1\" class=\"data row2 col1\" >3.200000</td>\n",
       "      <td id=\"T_1cf8b_row2_col2\" class=\"data row2 col2\" >1.300000</td>\n",
       "      <td id=\"T_1cf8b_row2_col3\" class=\"data row2 col3\" >0.200000</td>\n",
       "      <td id=\"T_1cf8b_row2_col4\" class=\"data row2 col4\" >IRIS-SETOSA</td>\n",
       "    </tr>\n",
       "    <tr>\n",
       "      <th id=\"T_1cf8b_level0_row3\" class=\"row_heading level0 row3\" >3</th>\n",
       "      <td id=\"T_1cf8b_row3_col0\" class=\"data row3 col0\" >4.600000</td>\n",
       "      <td id=\"T_1cf8b_row3_col1\" class=\"data row3 col1\" >3.100000</td>\n",
       "      <td id=\"T_1cf8b_row3_col2\" class=\"data row3 col2\" >1.500000</td>\n",
       "      <td id=\"T_1cf8b_row3_col3\" class=\"data row3 col3\" >0.200000</td>\n",
       "      <td id=\"T_1cf8b_row3_col4\" class=\"data row3 col4\" >IRIS-SETOSA</td>\n",
       "    </tr>\n",
       "    <tr>\n",
       "      <th id=\"T_1cf8b_level0_row4\" class=\"row_heading level0 row4\" >4</th>\n",
       "      <td id=\"T_1cf8b_row4_col0\" class=\"data row4 col0\" >5.000000</td>\n",
       "      <td id=\"T_1cf8b_row4_col1\" class=\"data row4 col1\" >3.600000</td>\n",
       "      <td id=\"T_1cf8b_row4_col2\" class=\"data row4 col2\" >1.400000</td>\n",
       "      <td id=\"T_1cf8b_row4_col3\" class=\"data row4 col3\" >0.200000</td>\n",
       "      <td id=\"T_1cf8b_row4_col4\" class=\"data row4 col4\" >IRIS-SETOSA</td>\n",
       "    </tr>\n",
       "  </tbody>\n",
       "</table>\n"
      ],
      "text/plain": [
       "<IPython.core.display.HTML object>"
      ]
     },
     "metadata": {},
     "output_type": "display_data"
    },
    {
     "name": "stdout",
     "output_type": "stream",
     "text": [
      "\n",
      "\n",
      "sepal_length in ( 5.55, 6.75 ),\n",
      "sepal_width is greater than 3.7\n"
     ]
    },
    {
     "data": {
      "text/html": [
       "<style type=\"text/css\">\n",
       "#T_fbb85 th {\n",
       "  text-align: left;\n",
       "}\n",
       "#T_fbb85 td {\n",
       "  text-align: left;\n",
       "}\n",
       "</style>\n",
       "<table id=\"T_fbb85\">\n",
       "  <thead>\n",
       "    <tr>\n",
       "      <th class=\"blank level0\" >&nbsp;</th>\n",
       "      <th id=\"T_fbb85_level0_col0\" class=\"col_heading level0 col0\" >sepal_length</th>\n",
       "      <th id=\"T_fbb85_level0_col1\" class=\"col_heading level0 col1\" >sepal_width</th>\n",
       "      <th id=\"T_fbb85_level0_col2\" class=\"col_heading level0 col2\" >petal_length</th>\n",
       "      <th id=\"T_fbb85_level0_col3\" class=\"col_heading level0 col3\" >petal_width</th>\n",
       "      <th id=\"T_fbb85_level0_col4\" class=\"col_heading level0 col4\" >species</th>\n",
       "    </tr>\n",
       "  </thead>\n",
       "  <tbody>\n",
       "    <tr>\n",
       "      <th id=\"T_fbb85_level0_row0\" class=\"row_heading level0 row0\" >0</th>\n",
       "      <td id=\"T_fbb85_row0_col0\" class=\"data row0 col0\" >5.800000</td>\n",
       "      <td id=\"T_fbb85_row0_col1\" class=\"data row0 col1\" >4.000000</td>\n",
       "      <td id=\"T_fbb85_row0_col2\" class=\"data row0 col2\" >1.200000</td>\n",
       "      <td id=\"T_fbb85_row0_col3\" class=\"data row0 col3\" >0.200000</td>\n",
       "      <td id=\"T_fbb85_row0_col4\" class=\"data row0 col4\" >IRIS-SETOSA</td>\n",
       "    </tr>\n",
       "    <tr>\n",
       "      <th id=\"T_fbb85_level0_row1\" class=\"row_heading level0 row1\" >1</th>\n",
       "      <td id=\"T_fbb85_row1_col0\" class=\"data row1 col0\" >5.700000</td>\n",
       "      <td id=\"T_fbb85_row1_col1\" class=\"data row1 col1\" >4.400000</td>\n",
       "      <td id=\"T_fbb85_row1_col2\" class=\"data row1 col2\" >1.500000</td>\n",
       "      <td id=\"T_fbb85_row1_col3\" class=\"data row1 col3\" >0.400000</td>\n",
       "      <td id=\"T_fbb85_row1_col4\" class=\"data row1 col4\" >IRIS-SETOSA</td>\n",
       "    </tr>\n",
       "    <tr>\n",
       "      <th id=\"T_fbb85_level0_row2\" class=\"row_heading level0 row2\" >2</th>\n",
       "      <td id=\"T_fbb85_row2_col0\" class=\"data row2 col0\" >5.700000</td>\n",
       "      <td id=\"T_fbb85_row2_col1\" class=\"data row2 col1\" >3.800000</td>\n",
       "      <td id=\"T_fbb85_row2_col2\" class=\"data row2 col2\" >1.700000</td>\n",
       "      <td id=\"T_fbb85_row2_col3\" class=\"data row2 col3\" >0.300000</td>\n",
       "      <td id=\"T_fbb85_row2_col4\" class=\"data row2 col4\" >IRIS-SETOSA</td>\n",
       "    </tr>\n",
       "  </tbody>\n",
       "</table>\n"
      ],
      "text/plain": [
       "<IPython.core.display.HTML object>"
      ]
     },
     "metadata": {},
     "output_type": "display_data"
    },
    {
     "name": "stdout",
     "output_type": "stream",
     "text": [
      "\n",
      "\n"
     ]
    }
   ],
   "source": [
    "for i in range(len(record_number)):\n",
    "    print (val_response['validation_filter'][i]['Augmented Intelligence Insights'])\n",
    "    filter_df = pd.DataFrame(val_response['validation_filter'][i]['filtered_data']['data'], columns=val_response[\n",
    "                             'validation_filter'][i]['filtered_data']['columns']) \n",
    "    ez_display_df(filter_df.head())\n",
    "    print ('\\n')"
   ]
  },
  {
   "cell_type": "code",
   "execution_count": null,
   "id": "7b49167a-a76b-482e-9d4f-f892851952cc",
   "metadata": {},
   "outputs": [],
   "source": []
  },
  {
   "cell_type": "code",
   "execution_count": null,
   "id": "6ec78abe",
   "metadata": {},
   "outputs": [],
   "source": []
  }
 ],
 "metadata": {
  "kernelspec": {
   "display_name": "py310",
   "language": "python",
   "name": "python3"
  },
  "language_info": {
   "codemirror_mode": {
    "name": "ipython",
    "version": 3
   },
   "file_extension": ".py",
   "mimetype": "text/x-python",
   "name": "python",
   "nbconvert_exporter": "python",
   "pygments_lexer": "ipython3",
   "version": "3.10.12"
  }
 },
 "nbformat": 4,
 "nbformat_minor": 5
}
