{
 "cells": [
  {
   "cell_type": "markdown",
   "id": "9145c720-0326-4724-b2e3-60f436d12858",
   "metadata": {},
   "source": [
    "# EazyML Insights Template"
   ]
  },
  {
   "cell_type": "markdown",
   "id": "a616f634-ad67-455a-92e5-e7aee68e5ac6",
   "metadata": {
    "jp-MarkdownHeadingCollapsed": true
   },
   "source": [
    "## Define Imports"
   ]
  },
  {
   "cell_type": "code",
   "execution_count": null,
   "id": "2631476b",
   "metadata": {},
   "outputs": [],
   "source": [
    "!pip install --upgrade eazyml-insight\n",
    "!pip install --upgrade eazyml-automl\n",
    "!pip install gdown python-dotenv"
   ]
  },
  {
   "cell_type": "code",
   "execution_count": null,
   "id": "b5f96df4-96d0-49e5-8875-c89b40fe2299",
   "metadata": {},
   "outputs": [],
   "source": [
    "import os\n",
    "from eazyml_insight import (\n",
    "    ez_insight,\n",
    "    ez_init,\n",
    "    ez_validate\n",
    ")\n",
    "\n",
    "from eazyml import ez_display_df\n",
    "import gdown\n",
    "import pandas as pd\n",
    "\n",
    "from dotenv import load_dotenv\n",
    "load_dotenv()"
   ]
  },
  {
   "cell_type": "markdown",
   "id": "ed6dd06f",
   "metadata": {
    "jp-MarkdownHeadingCollapsed": true
   },
   "source": [
    "## 1. Initialize EazyML"
   ]
  },
  {
   "cell_type": "markdown",
   "id": "0276ef56-fc88-4ae8-8256-20a3f8f9d34e",
   "metadata": {},
   "source": [
    "The `ez_init` function uses the `EAZYML_ACCESS_KEY` environment variable for authentication. If the variable is not set, it defaults to a trial license."
   ]
  },
  {
   "cell_type": "code",
   "execution_count": null,
   "id": "9368081b-11aa-4b71-bff6-af121ff26423",
   "metadata": {},
   "outputs": [],
   "source": [
    "ez_init(access_key=os.getenv('EAZYML_ACCESS_KEY'))"
   ]
  },
  {
   "cell_type": "markdown",
   "id": "d2ec63d8-35da-4ee5-9c38-92cee982ed7e",
   "metadata": {
    "jp-MarkdownHeadingCollapsed": true
   },
   "source": [
    "## 2. Define Dataset Files and Outcome Variable"
   ]
  },
  {
   "cell_type": "code",
   "execution_count": null,
   "id": "a35c10c1",
   "metadata": {},
   "outputs": [],
   "source": [
    "gdown.download_folder(id='1-RO9K9-YYGK7Wp__ioth0xPD8XqtgvKT')"
   ]
  },
  {
   "cell_type": "code",
   "execution_count": null,
   "id": "81aa3231-9669-4a5c-a68e-b51b42d1d66c",
   "metadata": {},
   "outputs": [],
   "source": [
    "# Names of the files that will be used by EazyML APIs\n",
    "train_file_path = os.path.join('data', 'IRIS_Train.csv')\n",
    "test_file_path = os.path.join('data', 'IRIS_Test.csv')\n",
    "\n",
    "# The column name for outcome of interest\n",
    "outcome = \"species\""
   ]
  },
  {
   "cell_type": "markdown",
   "id": "b9da2bc6-4e92-47ed-996c-640fda834e33",
   "metadata": {
    "jp-MarkdownHeadingCollapsed": true
   },
   "source": [
    "## 3. Dataset Information"
   ]
  },
  {
   "cell_type": "markdown",
   "id": "603ea13f-8504-4545-b90f-1081cec4b655",
   "metadata": {},
   "source": [
    "The dataset used in this notebook is the **Iris Dataset**, which is a well-known dataset in machine learning and statistics. It contains data about 150 iris flowers, with four features (sepal length, sepal width, petal length, and petal width) and the species of the flower (setosa, versicolor, or virginica).\r\n",
    "\r\n",
    "You can find more details and download the dataset from Kaggle using the following link:\r\n",
    "\r\n",
    "[Kaggle Iris Dataset](https://www.kaggle.com/datasets/uciml/iris)\r\n",
    "\r\n",
    "### Columns in the Dataset:\r\n",
    "- **sepal_length**: Sepal length of the flower (cm)\r\n",
    "- **sepal_width**: Sepal width of the flower (cm)\r\n",
    "- **petal_length**: Petal length of the flower (cm)\r\n",
    "- **petal_width**: Petal width of the flower (cm)\r\n",
    "- **species**: Species of the iris flower (setosa, versicolor, virginica)"
   ]
  },
  {
   "cell_type": "markdown",
   "id": "daad6f86-62ec-43ae-9ed0-ddac02af82b2",
   "metadata": {
    "jp-MarkdownHeadingCollapsed": true
   },
   "source": [
    "### 3.1 Display the Dataset"
   ]
  },
  {
   "cell_type": "markdown",
   "id": "456b9bca-a1ec-4338-b417-ab1568fd8a69",
   "metadata": {},
   "source": [
    "Below is a preview of the dataset:"
   ]
  },
  {
   "cell_type": "code",
   "execution_count": null,
   "id": "ed3c3138-d07f-4b6d-8f94-94c70c17b7f6",
   "metadata": {},
   "outputs": [],
   "source": [
    "# Load the dataset from the provided file\n",
    "train = pd.read_csv(train_file_path)\n",
    "\n",
    "# Display the first few rows of the dataset\n",
    "train.head()"
   ]
  },
  {
   "cell_type": "markdown",
   "id": "475515b3-34aa-4615-80f2-4fc5f8474bf0",
   "metadata": {
    "jp-MarkdownHeadingCollapsed": true
   },
   "source": [
    "## 4. EazyML Insights"
   ]
  },
  {
   "cell_type": "markdown",
   "id": "9255cabc-c8a2-4074-931c-afa9381bcc84",
   "metadata": {
    "jp-MarkdownHeadingCollapsed": true
   },
   "source": [
    "### 4.1 Auto-derive Insights"
   ]
  },
  {
   "cell_type": "markdown",
   "id": "6f11a093-65cd-408f-bf61-908f8a83e49d",
   "metadata": {
    "jp-MarkdownHeadingCollapsed": true
   },
   "source": [
    "#### 4.1.1 Build Insight Model"
   ]
  },
  {
   "cell_type": "code",
   "execution_count": null,
   "id": "807b3ba0",
   "metadata": {},
   "outputs": [],
   "source": [
    "response = ez_insight(train_file_path, outcome, options={})"
   ]
  },
  {
   "cell_type": "markdown",
   "id": "b6cfa82d-8292-4519-a0a1-e21611dda509",
   "metadata": {
    "jp-MarkdownHeadingCollapsed": true
   },
   "source": [
    "#### 4.1.2 Convert Response to DataFrame"
   ]
  },
  {
   "cell_type": "code",
   "execution_count": null,
   "id": "457bdb16-925b-4800-9e70-5e2cdff3d8a0",
   "metadata": {},
   "outputs": [],
   "source": [
    "insights_df = pd.DataFrame(response['insights']['data'], columns=response['insights']['columns'])"
   ]
  },
  {
   "cell_type": "markdown",
   "id": "c43f5578-778c-4560-b2cd-e6b96cf4a810",
   "metadata": {
    "jp-MarkdownHeadingCollapsed": true
   },
   "source": [
    "#### 4.1.3 Display Augmented Insights"
   ]
  },
  {
   "cell_type": "markdown",
   "id": "b8054a64-2c2b-4639-aa0e-3196d379fbea",
   "metadata": {
    "jp-MarkdownHeadingCollapsed": true
   },
   "source": [
    "##### 4.1.3.1 For Class Iris-virginica"
   ]
  },
  {
   "cell_type": "code",
   "execution_count": null,
   "id": "9e5dc70f-fc64-4059-ad23-407c58978198",
   "metadata": {},
   "outputs": [],
   "source": [
    "insights_df1 = insights_df[insights_df[outcome] == 'Iris-virginica']\n",
    "ez_display_df(insights_df1.head())"
   ]
  },
  {
   "cell_type": "markdown",
   "id": "2b29e4fb-2bac-4ab4-994e-1aa262a4baac",
   "metadata": {
    "jp-MarkdownHeadingCollapsed": true
   },
   "source": [
    "##### 4.1.3.2 For Class Iris-versicolor"
   ]
  },
  {
   "cell_type": "code",
   "execution_count": null,
   "id": "f84a06f9-2d67-4c0f-b5c8-070fa6a52f18",
   "metadata": {},
   "outputs": [],
   "source": [
    "insights_df0 = insights_df[insights_df[outcome] == 'Iris-versicolor']\n",
    "ez_display_df(insights_df0.head())"
   ]
  },
  {
   "cell_type": "markdown",
   "id": "4ca79cbe-1360-4a57-a9e8-731efe77e4c4",
   "metadata": {
    "jp-MarkdownHeadingCollapsed": true
   },
   "source": [
    "### 4.2 Validation of Insights"
   ]
  },
  {
   "cell_type": "markdown",
   "id": "ee5cb3fd-9213-4419-8916-9bf0db468945",
   "metadata": {
    "jp-MarkdownHeadingCollapsed": true
   },
   "source": [
    "#### 4.2.1 Validating Insights"
   ]
  },
  {
   "cell_type": "code",
   "execution_count": null,
   "id": "dabd023a-0cb7-4077-a938-94e3142234a7",
   "metadata": {},
   "outputs": [],
   "source": [
    "record_number = [3, 5]\n",
    "options = {'record_number': record_number}\n",
    "val_response = ez_validate(train_file_path, outcome, response['insights'], train_file_path, options=options)"
   ]
  },
  {
   "cell_type": "markdown",
   "id": "cf766334-ddfb-48aa-ab78-ef98524e7029",
   "metadata": {
    "jp-MarkdownHeadingCollapsed": true
   },
   "source": [
    "#### 4.2.2 Convert Response to DataFrame"
   ]
  },
  {
   "cell_type": "code",
   "execution_count": null,
   "id": "ada28e26-d148-4c1b-be1b-b0f3c194a008",
   "metadata": {},
   "outputs": [],
   "source": [
    "validate_df = pd.DataFrame(val_response['validations']['data'], columns=val_response['validations']['columns'])"
   ]
  },
  {
   "cell_type": "markdown",
   "id": "338fbdba-3ed5-477f-9896-fbf2a2881ebf",
   "metadata": {
    "jp-MarkdownHeadingCollapsed": true
   },
   "source": [
    "#### 4.2.3 Display Validation Metrics"
   ]
  },
  {
   "cell_type": "markdown",
   "id": "7199c71e-280b-4d9c-83de-0feb18b7139b",
   "metadata": {
    "jp-MarkdownHeadingCollapsed": true
   },
   "source": [
    "##### 4.2.3.1 For Class Iris-virginica"
   ]
  },
  {
   "cell_type": "code",
   "execution_count": null,
   "id": "5989fbce-d0dc-4b98-9077-61a1674b6898",
   "metadata": {},
   "outputs": [],
   "source": [
    "validate_df1 = validate_df[validate_df[outcome] == 'Iris-virginica']\n",
    "ez_display_df(validate_df1.head())"
   ]
  },
  {
   "cell_type": "markdown",
   "id": "07a4efa2-fbdb-4846-83bc-7793d6eb4152",
   "metadata": {
    "jp-MarkdownHeadingCollapsed": true
   },
   "source": [
    "##### 4.2.3.2 For Class Iris-versicolor"
   ]
  },
  {
   "cell_type": "code",
   "execution_count": null,
   "id": "65e244e3-2ebe-4bce-a1ac-0d118ce5bc30",
   "metadata": {},
   "outputs": [],
   "source": [
    "validate_df0 = validate_df[validate_df[outcome] == 'Iris-versicolor']\n",
    "ez_display_df(validate_df0.head())"
   ]
  },
  {
   "cell_type": "markdown",
   "id": "d6f8bc9a-9728-4cd7-8231-b446640297c1",
   "metadata": {
    "jp-MarkdownHeadingCollapsed": true
   },
   "source": [
    "#### 4.2.4 Display Filtered Data for Specific Record Numbers"
   ]
  },
  {
   "cell_type": "code",
   "execution_count": null,
   "id": "9d7ea0e3-36d8-4bcf-95e8-0138f563cd13",
   "metadata": {},
   "outputs": [],
   "source": [
    "for i in range(len(record_number)):\n",
    "    print (val_response['validation_filter'][i]['Augmented Intelligence Insights'])\n",
    "    filter_df = pd.DataFrame(val_response['validation_filter'][i]['filtered_data']['data'], columns=val_response[\n",
    "                             'validation_filter'][i]['filtered_data']['columns']) \n",
    "    ez_display_df(filter_df.head())\n",
    "    print ('\\n')"
   ]
  },
  {
   "cell_type": "code",
   "execution_count": null,
   "id": "7b49167a-a76b-482e-9d4f-f892851952cc",
   "metadata": {},
   "outputs": [],
   "source": []
  }
 ],
 "metadata": {
  "kernelspec": {
   "display_name": "Python 3 (ipykernel)",
   "language": "python",
   "name": "python3"
  },
  "language_info": {
   "codemirror_mode": {
    "name": "ipython",
    "version": 3
   },
   "file_extension": ".py",
   "mimetype": "text/x-python",
   "name": "python",
   "nbconvert_exporter": "python",
   "pygments_lexer": "ipython3",
   "version": "3.8.8"
  }
 },
 "nbformat": 4,
 "nbformat_minor": 5
}
