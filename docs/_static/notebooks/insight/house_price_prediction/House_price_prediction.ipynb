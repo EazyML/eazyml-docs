{
 "cells": [
  {
   "cell_type": "markdown",
   "id": "9145c720-0326-4724-b2e3-60f436d12858",
   "metadata": {},
   "source": [
    "# EazyML Insights Template"
   ]
  },
  {
   "cell_type": "markdown",
   "id": "a616f634-ad67-455a-92e5-e7aee68e5ac6",
   "metadata": {
    "jp-MarkdownHeadingCollapsed": true
   },
   "source": [
    "## Define Imports"
   ]
  },
  {
   "cell_type": "code",
   "execution_count": null,
   "id": "2631476b",
   "metadata": {},
   "outputs": [],
   "source": [
    "!pip install --upgrade eazyml-insight\n",
    "!pip install --upgrade eazyml-automl\n",
    "!pip install gdown python-dotenv"
   ]
  },
  {
   "cell_type": "code",
   "execution_count": null,
   "id": "47be001c-67df-4054-a3c6-77c36d6e2c14",
   "metadata": {},
   "outputs": [],
   "source": [
    "import os\n",
    "from eazyml_insight import (\n",
    "    ez_insight,\n",
    "    ez_init,\n",
    "    ez_validate\n",
    ")\n",
    "\n",
    "from eazyml import ez_display_df\n",
    "import gdown\n",
    "import pandas as pd\n",
    "\n",
    "from dotenv import load_dotenv\n",
    "load_dotenv()"
   ]
  },
  {
   "cell_type": "markdown",
   "id": "efd8316f-858b-4823-9938-4cf1da204140",
   "metadata": {
    "jp-MarkdownHeadingCollapsed": true
   },
   "source": [
    "## 1. Initialize EazyML\n",
    "The `ez_init` function uses the `EAZYML_ACCESS_KEY` environment variable for authentication. If the variable is not set, it defaults to a trial license."
   ]
  },
  {
   "cell_type": "code",
   "execution_count": null,
   "id": "fb332c0f-43d1-4b1b-ab98-9fa713f8f4dd",
   "metadata": {},
   "outputs": [],
   "source": [
    "ez_init(access_key=os.getenv('EAZYML_ACCESS_KEY'))"
   ]
  },
  {
   "cell_type": "markdown",
   "id": "d2ec63d8-35da-4ee5-9c38-92cee982ed7e",
   "metadata": {
    "jp-MarkdownHeadingCollapsed": true
   },
   "source": [
    "## 2. Define Dataset Files and Outcome Variable"
   ]
  },
  {
   "cell_type": "code",
   "execution_count": null,
   "id": "81aa3231-9669-4a5c-a68e-b51b42d1d66c",
   "metadata": {},
   "outputs": [],
   "source": [
    "gdown.download_folder(id='1p7Udh2MjKyJPxI47FS89VowAz9ZEq_hG')"
   ]
  },
  {
   "cell_type": "code",
   "execution_count": null,
   "id": "db521ffc",
   "metadata": {},
   "outputs": [],
   "source": [
    "# Names of the files that will be used by EazyML APIs\n",
    "eazyml_train_file = os.path.join('data', \"House Price Prediction - Train Data.xlsx\")\n",
    "eazyml_test_file = os.path.join('data', \"House Price Prediction - Test Data.xlsx\")\n",
    "\n",
    "# The column name for outcome of interest\n",
    "outcome = \"House_Price\""
   ]
  },
  {
   "cell_type": "markdown",
   "id": "475515b3-34aa-4615-80f2-4fc5f8474bf0",
   "metadata": {
    "jp-MarkdownHeadingCollapsed": true
   },
   "source": [
    "## 3. EazyML Insights"
   ]
  },
  {
   "cell_type": "markdown",
   "id": "31117d4d-be4a-4a98-b160-6f1be1a297be",
   "metadata": {
    "jp-MarkdownHeadingCollapsed": true
   },
   "source": [
    "### 3.1 Auto-derive Insights"
   ]
  },
  {
   "cell_type": "markdown",
   "id": "6f11a093-65cd-408f-bf61-908f8a83e49d",
   "metadata": {
    "jp-MarkdownHeadingCollapsed": true
   },
   "source": [
    "#### 3.1.1 Build Insight Model"
   ]
  },
  {
   "cell_type": "code",
   "execution_count": null,
   "id": "807b3ba0",
   "metadata": {},
   "outputs": [],
   "source": [
    "response = ez_insight(eazyml_train_file, outcome, options={})"
   ]
  },
  {
   "cell_type": "markdown",
   "id": "b6cfa82d-8292-4519-a0a1-e21611dda509",
   "metadata": {
    "jp-MarkdownHeadingCollapsed": true
   },
   "source": [
    "#### 3.1.2 Convert Response to DataFrame"
   ]
  },
  {
   "cell_type": "code",
   "execution_count": null,
   "id": "457bdb16-925b-4800-9e70-5e2cdff3d8a0",
   "metadata": {},
   "outputs": [],
   "source": [
    "insights_df = pd.DataFrame(response['insights']['data'], columns=response['insights']['columns'])"
   ]
  },
  {
   "cell_type": "markdown",
   "id": "c43f5578-778c-4560-b2cd-e6b96cf4a810",
   "metadata": {
    "jp-MarkdownHeadingCollapsed": true
   },
   "source": [
    "#### 3.1.3 Display Augmented Insights"
   ]
  },
  {
   "cell_type": "code",
   "execution_count": null,
   "id": "9e5dc70f-fc64-4059-ad23-407c58978198",
   "metadata": {},
   "outputs": [],
   "source": [
    "ez_display_df(insights_df.head())"
   ]
  },
  {
   "cell_type": "markdown",
   "id": "f3989152-0fb9-47cb-b411-1a05e76252eb",
   "metadata": {
    "jp-MarkdownHeadingCollapsed": true
   },
   "source": [
    "### 3.2 Validation of Insights"
   ]
  },
  {
   "cell_type": "markdown",
   "id": "6ba488f4-b7da-4e87-be25-2fe7e9e32e2f",
   "metadata": {
    "jp-MarkdownHeadingCollapsed": true
   },
   "source": [
    "#### 3.2.1 Validating Insights"
   ]
  },
  {
   "cell_type": "code",
   "execution_count": null,
   "id": "8a534452-c001-4a32-9141-58ad91abdd61",
   "metadata": {},
   "outputs": [],
   "source": [
    "record_number = [3, 5]\n",
    "options = {'record_number': record_number}\n",
    "val_response = ez_validate(eazyml_train_file, outcome, response['insights'], eazyml_test_file, options=options)"
   ]
  },
  {
   "cell_type": "markdown",
   "id": "92063bb6-82e6-4949-a51b-aa5b0743f1ea",
   "metadata": {
    "jp-MarkdownHeadingCollapsed": true
   },
   "source": [
    "#### 3.2.2 Convert Response to DataFrame"
   ]
  },
  {
   "cell_type": "code",
   "execution_count": null,
   "id": "9882d24a-f9bf-49f6-927d-3236b7487dab",
   "metadata": {},
   "outputs": [],
   "source": [
    "validate_df = pd.DataFrame(val_response['validations']['data'], columns=val_response['validations']['columns'])"
   ]
  },
  {
   "cell_type": "markdown",
   "id": "70ff4d49-7aec-4c7b-8e16-b65cf17f3478",
   "metadata": {
    "jp-MarkdownHeadingCollapsed": true
   },
   "source": [
    "#### 3.2.3 Display Validation Metrics"
   ]
  },
  {
   "cell_type": "code",
   "execution_count": null,
   "id": "f41d593e-fad2-4752-8e18-71fe105ea7a4",
   "metadata": {},
   "outputs": [],
   "source": [
    "ez_display_df(validate_df.head())"
   ]
  },
  {
   "cell_type": "markdown",
   "id": "e5266478-0155-4a24-a13b-0414d4d73b79",
   "metadata": {
    "jp-MarkdownHeadingCollapsed": true
   },
   "source": [
    "#### 3.2.4 Display Filtered Data for Specific Record Numbers"
   ]
  },
  {
   "cell_type": "code",
   "execution_count": null,
   "id": "e8d89e83-5b2d-495e-91fc-84a4920e2e4d",
   "metadata": {},
   "outputs": [],
   "source": [
    "for i in range(len(record_number)):\n",
    "    print (val_response['validation_filter'][i]['Augmented Intelligence Insights'])\n",
    "    filter_df = pd.DataFrame(val_response['validation_filter'][i]['filtered_data']['data'], columns=val_response[\n",
    "                             'validation_filter'][i]['filtered_data']['columns']) \n",
    "    ez_display_df(filter_df.head())\n",
    "    print ('\\n')"
   ]
  },
  {
   "cell_type": "code",
   "execution_count": null,
   "id": "3c67ee86-e2b2-4612-bc87-235d8cbf4b02",
   "metadata": {},
   "outputs": [],
   "source": []
  }
 ],
 "metadata": {
  "kernelspec": {
   "display_name": "py310",
   "language": "python",
   "name": "python3"
  },
  "language_info": {
   "codemirror_mode": {
    "name": "ipython",
    "version": 3
   },
   "file_extension": ".py",
   "mimetype": "text/x-python",
   "name": "python",
   "nbconvert_exporter": "python",
   "pygments_lexer": "ipython3",
   "version": "3.10.12"
  }
 },
 "nbformat": 4,
 "nbformat_minor": 5
}
