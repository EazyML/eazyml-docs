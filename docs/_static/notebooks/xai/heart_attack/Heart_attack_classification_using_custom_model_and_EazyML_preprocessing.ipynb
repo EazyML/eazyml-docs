{
 "cells": [
  {
   "cell_type": "markdown",
   "id": "c57f452e-88d1-4318-8072-b984cae2879f",
   "metadata": {},
   "source": [
    "# EazyML Explainable AI Template"
   ]
  },
  {
   "cell_type": "markdown",
   "id": "ec6951e0-1c7e-4cc3-a93d-eae7960c99f6",
   "metadata": {
    "jp-MarkdownHeadingCollapsed": true
   },
   "source": [
    "## Define Imports"
   ]
  },
  {
   "cell_type": "code",
   "execution_count": null,
   "id": "159fc5f7",
   "metadata": {},
   "outputs": [],
   "source": [
    "!pip install --upgrade eazyml-xai\n",
    "!pip install --upgrade eazyml-automl\n",
    "!pip install gdown python-dotenv"
   ]
  },
  {
   "cell_type": "code",
   "execution_count": null,
   "id": "d300545a-a429-4c48-ab1e-c148ae2a710d",
   "metadata": {},
   "outputs": [],
   "source": [
    "import os\n",
    "from eazyml_xai import (\n",
    "    ez_init,\n",
    "    ez_explain,\n",
    "    ez_get_data_type,\n",
    "    create_onehot_encoded_features,\n",
    ")\n",
    "\n",
    "from eazyml import ez_display_df\n",
    "import gdown\n",
    "import numpy as np\n",
    "import pandas as pd\n",
    "\n",
    "from xgboost import XGBClassifier\n",
    "from sklearn.preprocessing import LabelEncoder\n",
    "\n",
    "from dotenv import load_dotenv\n",
    "load_dotenv()"
   ]
  },
  {
   "cell_type": "markdown",
   "id": "dd0417d7",
   "metadata": {
    "jp-MarkdownHeadingCollapsed": true
   },
   "source": [
    "## 1. Initialize EazyML\n",
    "The `ez_init` function uses the `EAZYML_ACCESS_KEY` environment variable for authentication. If the variable is not set, it defaults to a trial license."
   ]
  },
  {
   "cell_type": "code",
   "execution_count": null,
   "id": "e483eeac",
   "metadata": {},
   "outputs": [],
   "source": [
    "ez_init(access_key=os.getenv('EAZYML_ACCESS_KEY'))"
   ]
  },
  {
   "cell_type": "markdown",
   "id": "b37ec197-edc0-4e77-9020-e176d880a2bc",
   "metadata": {
    "jp-MarkdownHeadingCollapsed": true
   },
   "source": [
    "## 2. Define Dataset Files and Outcome Variable"
   ]
  },
  {
   "cell_type": "code",
   "execution_count": null,
   "id": "8e8fb501",
   "metadata": {},
   "outputs": [],
   "source": [
    "gdown.download_folder(id='1EobxYR3pg_Z3Sd4sETfe4aJLAsT98fL2')"
   ]
  },
  {
   "cell_type": "code",
   "execution_count": null,
   "id": "8097c5d5-ed97-4b4b-b8ae-c9819a7787f7",
   "metadata": {},
   "outputs": [],
   "source": [
    "# Names of the files that will be used by EazyML APIs\n",
    "train_file_path = os.path.join('data', 'Heart_Attack_traindata.csv')\n",
    "test_file_path  = os.path.join('data', 'Heart_Attack_testdata.csv')\n",
    "\n",
    "# The column name for outcome of interest\n",
    "outcome = 'class'"
   ]
  },
  {
   "cell_type": "markdown",
   "id": "71ca4f2c-0fc9-4db3-993a-8488e81cb5a1",
   "metadata": {
    "jp-MarkdownHeadingCollapsed": true
   },
   "source": [
    "## 3. EazyML Preprocessing Steps Before Model Training"
   ]
  },
  {
   "cell_type": "markdown",
   "id": "cd1dea51-1d9e-45b3-ad0e-97f4ddfbb03a",
   "metadata": {
    "jp-MarkdownHeadingCollapsed": true
   },
   "source": [
    "### 3.1 Reading the Datasets and Dropping Unnecessary Columns"
   ]
  },
  {
   "cell_type": "code",
   "execution_count": null,
   "id": "c9a86d75-885e-4c89-a70b-a5765a8792b9",
   "metadata": {},
   "outputs": [],
   "source": [
    "discard_columns = []\n",
    "\n",
    "# Reading Training Data\n",
    "train = pd.read_csv(train_file_path)\n",
    "train = train.drop(columns=discard_columns)\n",
    "\n",
    "# Reading Test Data\n",
    "test = pd.read_csv(test_file_path)\n",
    "test = test.drop(columns=discard_columns)"
   ]
  },
  {
   "cell_type": "markdown",
   "id": "2fe446a4-4885-4076-b35c-ce4458cba68c",
   "metadata": {
    "jp-MarkdownHeadingCollapsed": true
   },
   "source": [
    "### 3.2 Getting the Data Type of Features and Creating Dummy Features"
   ]
  },
  {
   "cell_type": "code",
   "execution_count": null,
   "id": "1f55b10f-92b5-4595-b92d-19b641fc0b33",
   "metadata": {},
   "outputs": [],
   "source": [
    "# Getting Data Type of Features\n",
    "type_df = ez_get_data_type(train, outcome)"
   ]
  },
  {
   "cell_type": "code",
   "execution_count": null,
   "id": "8af9ae29-8bb9-4ec9-b66b-482f0d52e185",
   "metadata": {},
   "outputs": [],
   "source": [
    "# List of Categorical Columns\n",
    "cat_list = type_df[type_df['Data Type'] == 'categorical']['Variable Name'].tolist()\n",
    "cat_list = [ele for ele in cat_list if ele != outcome]\n",
    "\n",
    "# Creating Dummy Features\n",
    "train = create_onehot_encoded_features(train, cat_list)\n",
    "test = create_onehot_encoded_features(test, cat_list)"
   ]
  },
  {
   "cell_type": "markdown",
   "id": "ee52dd82-50b2-4bc1-a8e9-818839cb4549",
   "metadata": {
    "jp-MarkdownHeadingCollapsed": true
   },
   "source": [
    "## 4. Training XGBoost Classifer Model"
   ]
  },
  {
   "cell_type": "code",
   "execution_count": null,
   "id": "4753f1e0-e2b7-4946-9725-e0714f5d797d",
   "metadata": {},
   "outputs": [],
   "source": [
    "y = train[[outcome]]\n",
    "X = train.drop([outcome], axis=1)\n",
    "\n",
    "# Because y contains ['negative', 'positive']\n",
    "label_encoder = LabelEncoder()\n",
    "y_numeric = label_encoder.fit_transform(y)\n",
    "\n",
    "model_name = XGBClassifier(base_score=0.5, booster='gbtree', colsample_bylevel=0.9,\n",
    "       colsample_bytree=0.8, gamma=0.5, learning_rate=0.1,\n",
    "       max_delta_step=0, max_depth=20, min_child_weight=1.0, missing=np.nan,\n",
    "       n_estimators=10, n_jobs=1, nthread=None,\n",
    "       objective='binary:logistic', random_state=0, reg_alpha=0,\n",
    "       reg_lambda=5.0, scale_pos_weight=1, seed=None, silent=False,\n",
    "       subsample=0.9)\n",
    "\n",
    "model = model_name.fit(X, y_numeric)"
   ]
  },
  {
   "cell_type": "markdown",
   "id": "2a1d67cb-8b9d-4fa5-8a73-d30c3924d4cd",
   "metadata": {
    "jp-MarkdownHeadingCollapsed": true
   },
   "source": [
    "## 5. Get Explanations"
   ]
  },
  {
   "cell_type": "markdown",
   "id": "d1fd6df5-1678-47e8-82e8-60ec50d8f5c5",
   "metadata": {
    "jp-MarkdownHeadingCollapsed": true
   },
   "source": [
    "### 5.1 Get Explanations for 5 Points"
   ]
  },
  {
   "cell_type": "code",
   "execution_count": null,
   "id": "7a728d22-ec90-4eda-bb44-90eb68f63e2a",
   "metadata": {},
   "outputs": [],
   "source": [
    "options = {'record_number': [1, 6, 7, 8, 9]}\n",
    "response = ez_explain(train_file_path, outcome, test_file_path, model, options=options)"
   ]
  },
  {
   "cell_type": "markdown",
   "id": "04056729-384f-4e4e-909b-439bc3ae5053",
   "metadata": {
    "jp-MarkdownHeadingCollapsed": true
   },
   "source": [
    "### 5.2 Display Explanation DataFrame"
   ]
  },
  {
   "cell_type": "code",
   "execution_count": null,
   "id": "ca70ecde-30c2-473e-9f07-042a1e78a496",
   "metadata": {},
   "outputs": [],
   "source": [
    "ex_df = pd.DataFrame([i.values() for i in response['explanations']], columns=response['explanations'][0].keys())\n",
    "ez_display_df(ex_df)"
   ]
  },
  {
   "cell_type": "code",
   "execution_count": null,
   "id": "a8538c11",
   "metadata": {},
   "outputs": [],
   "source": []
  }
 ],
 "metadata": {
  "kernelspec": {
   "display_name": "py310",
   "language": "python",
   "name": "python3"
  },
  "language_info": {
   "codemirror_mode": {
    "name": "ipython",
    "version": 3
   },
   "file_extension": ".py",
   "mimetype": "text/x-python",
   "name": "python",
   "nbconvert_exporter": "python",
   "pygments_lexer": "ipython3",
   "version": "3.10.12"
  }
 },
 "nbformat": 4,
 "nbformat_minor": 5
}
