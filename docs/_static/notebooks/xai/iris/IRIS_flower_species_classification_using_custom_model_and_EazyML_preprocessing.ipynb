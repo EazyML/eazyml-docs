{
 "cells": [
  {
   "cell_type": "markdown",
   "id": "c57f452e-88d1-4318-8072-b984cae2879f",
   "metadata": {},
   "source": [
    "# EazyML Explainable AI Template"
   ]
  },
  {
   "cell_type": "markdown",
   "id": "ec6951e0-1c7e-4cc3-a93d-eae7960c99f6",
   "metadata": {
    "jp-MarkdownHeadingCollapsed": true
   },
   "source": [
    "## Define Imports"
   ]
  },
  {
   "cell_type": "code",
   "execution_count": null,
   "id": "159fc5f7",
   "metadata": {},
   "outputs": [],
   "source": [
    "!pip install --upgrade eazyml-xai\n",
    "!pip install --upgrade eazyml-automl\n",
    "!pip install gdown python-dotenv"
   ]
  },
  {
   "cell_type": "code",
   "execution_count": null,
   "id": "d300545a-a429-4c48-ab1e-c148ae2a710d",
   "metadata": {},
   "outputs": [],
   "source": [
    "import os\n",
    "from eazyml_xai import (\n",
    "    ez_init,\n",
    "    ez_explain,\n",
    "    ez_get_data_type,\n",
    "    create_onehot_encoded_features,\n",
    ")\n",
    "\n",
    "from eazyml import ez_display_df\n",
    "import gdown\n",
    "import pandas as pd\n",
    "\n",
    "from sklearn.ensemble import BaggingClassifier\n",
    "from sklearn.tree import DecisionTreeClassifier\n",
    "\n",
    "from dotenv import load_dotenv\n",
    "load_dotenv()"
   ]
  },
  {
   "cell_type": "markdown",
   "id": "a6405d07",
   "metadata": {
    "jp-MarkdownHeadingCollapsed": true
   },
   "source": [
    "## 1. Initialize EazyML"
   ]
  },
  {
   "cell_type": "markdown",
   "id": "190e384b-c5f9-4615-8b73-4246bd44d25a",
   "metadata": {},
   "source": [
    "The `ez_init` function uses the `EAZYML_ACCESS_KEY` environment variable for authentication. If the variable is not set, it defaults to a trial license."
   ]
  },
  {
   "cell_type": "code",
   "execution_count": null,
   "id": "8057540e",
   "metadata": {},
   "outputs": [],
   "source": [
    "ez_init(access_key=os.getenv('EAZYML_ACCESS_KEY'))"
   ]
  },
  {
   "cell_type": "markdown",
   "id": "b37ec197-edc0-4e77-9020-e176d880a2bc",
   "metadata": {
    "jp-MarkdownHeadingCollapsed": true
   },
   "source": [
    "## 2. Define Dataset Files and Outcome Variable"
   ]
  },
  {
   "cell_type": "code",
   "execution_count": null,
   "id": "8f0b1a5d",
   "metadata": {},
   "outputs": [],
   "source": [
    "gdown.download_folder(id='1DJtU6gI929GdEEZ3F_7w5LMnT90VvYI7')"
   ]
  },
  {
   "cell_type": "code",
   "execution_count": null,
   "id": "8097c5d5-ed97-4b4b-b8ae-c9819a7787f7",
   "metadata": {},
   "outputs": [],
   "source": [
    "# Names of the files that will be used by EazyML APIs\n",
    "train_file_path = os.path.join('data', 'IRIS_Train.csv')\n",
    "test_file_path  = os.path.join('data', 'IRIS_Test.csv')\n",
    "\n",
    "# The column name for outcome of interest\n",
    "outcome = 'species'"
   ]
  },
  {
   "cell_type": "markdown",
   "id": "a8f6c080-dd72-4f9e-8831-6dcd474097fb",
   "metadata": {
    "jp-MarkdownHeadingCollapsed": true
   },
   "source": [
    "## 3. Dataset Information"
   ]
  },
  {
   "cell_type": "markdown",
   "id": "8983ddc7-5267-497a-92a3-a9ec6d8e3165",
   "metadata": {},
   "source": [
    "The dataset used in this notebook is the **Iris Dataset**, which is a well-known dataset in machine learning and statistics. It contains data about 150 iris flowers, with four features (sepal length, sepal width, petal length, and petal width) and the species of the flower (setosa, versicolor, or virginica).\n",
    "\n",
    "You can find more details and download the dataset from Kaggle using the following link:\n",
    "\n",
    "[Kaggle Iris Dataset](https://www.kaggle.com/datasets/uciml/iris)\n",
    "\n",
    "### Columns in the Dataset:\n",
    "- **sepal_length**: Sepal length of the flower (cm)\n",
    "- **sepal_width**: Sepal width of the flower (cm)\n",
    "- **petal_length**: Petal length of the flower (cm)\n",
    "- **petal_width**: Petal width of the flower (cm)\n",
    "- **species**: Species of the iris flower (setosa, versicolor, virginica)"
   ]
  },
  {
   "cell_type": "markdown",
   "id": "72f90292-78e7-4f66-b966-2ed65b9de136",
   "metadata": {
    "jp-MarkdownHeadingCollapsed": true
   },
   "source": [
    "### 3.1 Display the Dataset"
   ]
  },
  {
   "cell_type": "markdown",
   "id": "e859e864-af10-4763-99d0-bbaf4ca32147",
   "metadata": {},
   "source": [
    "Below is a preview of the dataset:"
   ]
  },
  {
   "cell_type": "code",
   "execution_count": null,
   "id": "32236467-e3f4-48ed-bee5-4addb2c038fb",
   "metadata": {},
   "outputs": [],
   "source": [
    "# Load the dataset from the provided file\n",
    "train = pd.read_csv(train_file_path)\n",
    "\n",
    "# Display the first few rows of the dataset\n",
    "train.head()"
   ]
  },
  {
   "cell_type": "markdown",
   "id": "71ca4f2c-0fc9-4db3-993a-8488e81cb5a1",
   "metadata": {
    "jp-MarkdownHeadingCollapsed": true
   },
   "source": [
    "## 4. EazyML Preprocessing Steps Before Model Training"
   ]
  },
  {
   "cell_type": "markdown",
   "id": "cd1dea51-1d9e-45b3-ad0e-97f4ddfbb03a",
   "metadata": {
    "jp-MarkdownHeadingCollapsed": true
   },
   "source": [
    "### 4.1 Reading the Datasets and Dropping Unnecessary Columns"
   ]
  },
  {
   "cell_type": "code",
   "execution_count": null,
   "id": "c9a86d75-885e-4c89-a70b-a5765a8792b9",
   "metadata": {},
   "outputs": [],
   "source": [
    "discard_columns = []\n",
    "\n",
    "# Reading Training Data\n",
    "train = pd.read_csv(train_file_path)\n",
    "train = train.drop(columns=discard_columns)"
   ]
  },
  {
   "cell_type": "markdown",
   "id": "ffb946f0-29cc-4578-aa13-5bacab4ec50a",
   "metadata": {
    "jp-MarkdownHeadingCollapsed": true
   },
   "source": [
    "### 4.2 Getting the Data Type of Features and Creating Dummy Features"
   ]
  },
  {
   "cell_type": "code",
   "execution_count": null,
   "id": "9e18023e-e23c-4a86-8f48-e7ae91502855",
   "metadata": {},
   "outputs": [],
   "source": [
    "# Getting Data Type of Features\n",
    "type_df = ez_get_data_type(train, outcome)"
   ]
  },
  {
   "cell_type": "code",
   "execution_count": null,
   "id": "c8bcb9fd-a5f4-489c-86d1-92305b7312e3",
   "metadata": {},
   "outputs": [],
   "source": [
    "# List of Categorical Columns\n",
    "cat_list = type_df[type_df['Data Type'] == 'categorical']['Variable Name'].tolist()\n",
    "cat_list = [ele for ele in cat_list if ele != outcome]\n",
    "\n",
    "# Creating Dummy Features\n",
    "train = create_onehot_encoded_features(train, cat_list)"
   ]
  },
  {
   "cell_type": "markdown",
   "id": "ee52dd82-50b2-4bc1-a8e9-818839cb4549",
   "metadata": {
    "jp-MarkdownHeadingCollapsed": true
   },
   "source": [
    "## 5. Training Bagging Classifer Model"
   ]
  },
  {
   "cell_type": "code",
   "execution_count": null,
   "id": "4753f1e0-e2b7-4946-9725-e0714f5d797d",
   "metadata": {},
   "outputs": [],
   "source": [
    "y = train[outcome]\n",
    "X = train.drop(outcome, axis=1)\n",
    "\n",
    "model_name = BaggingClassifier(estimator=DecisionTreeClassifier(\n",
    "    class_weight=None, criterion='gini', max_depth=None,\n",
    "    max_features=None, max_leaf_nodes=None,\n",
    "    min_samples_leaf=1,\n",
    "    min_samples_split=2, min_weight_fraction_leaf=0.0,\n",
    "    random_state=None, splitter='best'),\n",
    "    bootstrap=True, bootstrap_features=False, max_features=1.0,\n",
    "    max_samples=1.0, n_estimators=5, n_jobs=None, oob_score=False,\n",
    "    random_state=42, verbose=0, warm_start=False)\n",
    "\n",
    "model = model_name.fit(X, y)"
   ]
  },
  {
   "cell_type": "markdown",
   "id": "2a1d67cb-8b9d-4fa5-8a73-d30c3924d4cd",
   "metadata": {
    "jp-MarkdownHeadingCollapsed": true
   },
   "source": [
    "## 6. Get Explanations"
   ]
  },
  {
   "cell_type": "markdown",
   "id": "589164ad-2174-4e08-898b-2b15f4261cec",
   "metadata": {
    "jp-MarkdownHeadingCollapsed": true
   },
   "source": [
    "### 6.1 Get Explanations for Top 2 Points"
   ]
  },
  {
   "cell_type": "code",
   "execution_count": null,
   "id": "7a728d22-ec90-4eda-bb44-90eb68f63e2a",
   "metadata": {},
   "outputs": [],
   "source": [
    "options = {'record_number': [1, 2]}\n",
    "response = ez_explain(train, outcome, test_file_path, model, options=options)"
   ]
  },
  {
   "cell_type": "markdown",
   "id": "04056729-384f-4e4e-909b-439bc3ae5053",
   "metadata": {
    "jp-MarkdownHeadingCollapsed": true
   },
   "source": [
    "### 6.2 Display Explanation DataFrame"
   ]
  },
  {
   "cell_type": "code",
   "execution_count": null,
   "id": "ca70ecde-30c2-473e-9f07-042a1e78a496",
   "metadata": {},
   "outputs": [],
   "source": [
    "ex_df = pd.DataFrame([i.values() for i in response['explanations']], columns=response['explanations'][0].keys())\n",
    "ez_display_df(ex_df)"
   ]
  },
  {
   "cell_type": "code",
   "execution_count": null,
   "id": "f3d45209-3aa5-4fc2-9522-8eef564240e9",
   "metadata": {},
   "outputs": [],
   "source": []
  }
 ],
 "metadata": {
  "kernelspec": {
   "display_name": "Python 3 (ipykernel)",
   "language": "python",
   "name": "python3"
  },
  "language_info": {
   "codemirror_mode": {
    "name": "ipython",
    "version": 3
   },
   "file_extension": ".py",
   "mimetype": "text/x-python",
   "name": "python",
   "nbconvert_exporter": "python",
   "pygments_lexer": "ipython3",
   "version": "3.8.8"
  }
 },
 "nbformat": 4,
 "nbformat_minor": 5
}
