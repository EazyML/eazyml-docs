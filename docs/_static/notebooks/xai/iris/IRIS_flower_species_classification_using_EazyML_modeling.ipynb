{
 "cells": [
  {
   "cell_type": "markdown",
   "id": "c57f452e-88d1-4318-8072-b984cae2879f",
   "metadata": {},
   "source": [
    "# EazyML Explainable AI Template"
   ]
  },
  {
   "cell_type": "markdown",
   "id": "ec6951e0-1c7e-4cc3-a93d-eae7960c99f6",
   "metadata": {
    "jp-MarkdownHeadingCollapsed": true
   },
   "source": [
    "## Define Imports"
   ]
  },
  {
   "cell_type": "code",
   "execution_count": null,
   "id": "159fc5f7",
   "metadata": {},
   "outputs": [],
   "source": [
    "!pip install --upgrade eazyml-xai\n",
    "!pip install --upgrade eazyml-automl\n",
    "!pip install gdown python-dotenv"
   ]
  },
  {
   "cell_type": "code",
   "execution_count": null,
   "id": "d300545a-a429-4c48-ab1e-c148ae2a710d",
   "metadata": {},
   "outputs": [],
   "source": [
    "import os\n",
    "from eazyml_xai import (\n",
    "    ez_init,\n",
    "    ez_explain\n",
    ")\n",
    "\n",
    "from eazyml import (\n",
    "    ez_display_df,\n",
    "    ez_build_model\n",
    ")\n",
    "\n",
    "import gdown\n",
    "import pandas as pd\n",
    "\n",
    "from dotenv import load_dotenv\n",
    "load_dotenv()"
   ]
  },
  {
   "cell_type": "markdown",
   "id": "a6405d07",
   "metadata": {
    "jp-MarkdownHeadingCollapsed": true
   },
   "source": [
    "## 1. Initialize EazyML"
   ]
  },
  {
   "cell_type": "markdown",
   "id": "0e7e314e-a240-4030-89cc-da1690e1fb80",
   "metadata": {},
   "source": [
    "The `ez_init` function uses the `EAZYML_ACCESS_KEY` environment variable for authentication. If the variable is not set, it defaults to a trial license."
   ]
  },
  {
   "cell_type": "code",
   "execution_count": null,
   "id": "8057540e",
   "metadata": {},
   "outputs": [],
   "source": [
    "ez_init(access_key=os.getenv('EAZYML_ACCESS_KEY'))"
   ]
  },
  {
   "cell_type": "markdown",
   "id": "b37ec197-edc0-4e77-9020-e176d880a2bc",
   "metadata": {
    "jp-MarkdownHeadingCollapsed": true
   },
   "source": [
    "## 2. Define Dataset Files and Outcome Variable"
   ]
  },
  {
   "cell_type": "code",
   "execution_count": null,
   "id": "8f0b1a5d",
   "metadata": {},
   "outputs": [],
   "source": [
    "gdown.download_folder(id='1DJtU6gI929GdEEZ3F_7w5LMnT90VvYI7')"
   ]
  },
  {
   "cell_type": "code",
   "execution_count": null,
   "id": "8097c5d5-ed97-4b4b-b8ae-c9819a7787f7",
   "metadata": {},
   "outputs": [],
   "source": [
    "# Names of the files that will be used by EazyML APIs\n",
    "train_file_path = os.path.join('data', 'IRIS_Train.csv')\n",
    "test_file_path  = os.path.join('data', 'IRIS_Test.csv')\n",
    "\n",
    "# The column name for outcome of interest\n",
    "outcome = 'species'"
   ]
  },
  {
   "cell_type": "markdown",
   "id": "c3f8476e-03a6-4a07-a84e-ef58c429058b",
   "metadata": {
    "jp-MarkdownHeadingCollapsed": true
   },
   "source": [
    "## 3. Dataset Information"
   ]
  },
  {
   "cell_type": "markdown",
   "id": "be2cfeaa-b5d4-4ef0-b33e-58430e4c5f61",
   "metadata": {},
   "source": [
    "The dataset used in this notebook is the **Iris Dataset**, which is a well-known dataset in machine learning and statistics. It contains data about 150 iris flowers, with four features (sepal length, sepal width, petal length, and petal width) and the species of the flower (setosa, versicolor, or virginica).\n",
    "\n",
    "You can find more details and download the dataset from Kaggle using the following link:\n",
    "\n",
    "[Kaggle Iris Dataset](https://www.kaggle.com/datasets/uciml/iris)\n",
    "\n",
    "### Columns in the Dataset:\n",
    "- **sepal_length**: Sepal length of the flower (cm)\n",
    "- **sepal_width**: Sepal width of the flower (cm)\n",
    "- **petal_length**: Petal length of the flower (cm)\n",
    "- **petal_width**: Petal width of the flower (cm)\n",
    "- **species**: Species of the iris flower (setosa, versicolor, virginica)"
   ]
  },
  {
   "cell_type": "markdown",
   "id": "3d488200-ae3b-4bc8-b9d4-bf9ef9690976",
   "metadata": {
    "jp-MarkdownHeadingCollapsed": true
   },
   "source": [
    "### 3.1 Display the Dataset"
   ]
  },
  {
   "cell_type": "markdown",
   "id": "f4e94997-924c-45a5-bb0a-e86c97994428",
   "metadata": {},
   "source": [
    "Below is a preview of the dataset:"
   ]
  },
  {
   "cell_type": "code",
   "execution_count": null,
   "id": "de5369be-7a97-4ae4-966b-3e2ee509c8db",
   "metadata": {},
   "outputs": [],
   "source": [
    "# Load the dataset from the provided file\n",
    "train = pd.read_csv(train_file_path)\n",
    "\n",
    "# Display the first few rows of the dataset\n",
    "train.head()"
   ]
  },
  {
   "cell_type": "markdown",
   "id": "ee52dd82-50b2-4bc1-a8e9-818839cb4549",
   "metadata": {
    "jp-MarkdownHeadingCollapsed": true
   },
   "source": [
    "## 4. EazyML Predictive Models"
   ]
  },
  {
   "cell_type": "markdown",
   "id": "6b5e1c1f-96ad-4f5e-962f-ced2c2f7238c",
   "metadata": {
    "jp-MarkdownHeadingCollapsed": true
   },
   "source": [
    "### 4.1 Reading the Datasets and Dropping Unnecessary Columns"
   ]
  },
  {
   "cell_type": "code",
   "execution_count": null,
   "id": "f0c36290-4e48-41fe-97ea-525a286ad500",
   "metadata": {},
   "outputs": [],
   "source": [
    "discard_columns = []\n",
    "\n",
    "# Reading Training Data\n",
    "train = pd.read_csv(train_file_path)\n",
    "train = train.drop(columns=discard_columns)\n",
    "\n",
    "# Reading Test Data\n",
    "test = pd.read_csv(test_file_path)\n",
    "test = test.drop(columns=discard_columns)"
   ]
  },
  {
   "cell_type": "markdown",
   "id": "3c6e1c7b-54a2-4ca0-a1c9-1f5afc28027c",
   "metadata": {
    "jp-MarkdownHeadingCollapsed": true
   },
   "source": [
    "### 4.2 Model Training: Several Models Trained "
   ]
  },
  {
   "cell_type": "code",
   "execution_count": null,
   "id": "ec1e8495-486a-4fa8-a762-eec1a05b4f6e",
   "metadata": {},
   "outputs": [],
   "source": [
    "## Build Model\n",
    "options = {'model_type': 'predictive'}\n",
    "resp = ez_build_model(train, outcome=outcome, options=options)"
   ]
  },
  {
   "cell_type": "markdown",
   "id": "1aa2d5bb-fa13-41e8-a432-c4d1f1f7d595",
   "metadata": {
    "jp-MarkdownHeadingCollapsed": true
   },
   "source": [
    "### 4.3 Show Model Performance"
   ]
  },
  {
   "cell_type": "code",
   "execution_count": null,
   "id": "4753f1e0-e2b7-4946-9725-e0714f5d797d",
   "metadata": {},
   "outputs": [],
   "source": [
    "ez_display_df(resp['model_performance'])"
   ]
  },
  {
   "cell_type": "markdown",
   "id": "2a1d67cb-8b9d-4fa5-8a73-d30c3924d4cd",
   "metadata": {
    "jp-MarkdownHeadingCollapsed": true
   },
   "source": [
    "## 5. Get Explanations"
   ]
  },
  {
   "cell_type": "markdown",
   "id": "36567e6f-cc9a-4b58-8623-6e2cc91c01d7",
   "metadata": {
    "jp-MarkdownHeadingCollapsed": true
   },
   "source": [
    "### 5.1 Use model_info from ez_build_model"
   ]
  },
  {
   "cell_type": "code",
   "execution_count": null,
   "id": "85d31f0b-3fce-4115-9a54-64ff333732bd",
   "metadata": {},
   "outputs": [],
   "source": [
    "# In extra info, we have model information\n",
    "model_info = resp[\"model_info\"]"
   ]
  },
  {
   "cell_type": "markdown",
   "id": "589164ad-2174-4e08-898b-2b15f4261cec",
   "metadata": {
    "jp-MarkdownHeadingCollapsed": true
   },
   "source": [
    "### 5.2 Get Explanations for Top 2 Points"
   ]
  },
  {
   "cell_type": "code",
   "execution_count": null,
   "id": "7a728d22-ec90-4eda-bb44-90eb68f63e2a",
   "metadata": {},
   "outputs": [],
   "source": [
    "options = {'record_number': [1, 2]}\n",
    "response = ez_explain(train, outcome, test_file_path, model_info, options=options)"
   ]
  },
  {
   "cell_type": "markdown",
   "id": "04056729-384f-4e4e-909b-439bc3ae5053",
   "metadata": {
    "jp-MarkdownHeadingCollapsed": true
   },
   "source": [
    "### 5.3 Display Explanation DataFrame"
   ]
  },
  {
   "cell_type": "code",
   "execution_count": null,
   "id": "ca70ecde-30c2-473e-9f07-042a1e78a496",
   "metadata": {},
   "outputs": [],
   "source": [
    "ex_df = pd.DataFrame([i.values() for i in response['explanations']], columns=response['explanations'][0].keys())\n",
    "ez_display_df(ex_df)"
   ]
  },
  {
   "cell_type": "code",
   "execution_count": null,
   "id": "f3d45209-3aa5-4fc2-9522-8eef564240e9",
   "metadata": {},
   "outputs": [],
   "source": []
  }
 ],
 "metadata": {
  "kernelspec": {
   "display_name": "Python 3 (ipykernel)",
   "language": "python",
   "name": "python3"
  },
  "language_info": {
   "codemirror_mode": {
    "name": "ipython",
    "version": 3
   },
   "file_extension": ".py",
   "mimetype": "text/x-python",
   "name": "python",
   "nbconvert_exporter": "python",
   "pygments_lexer": "ipython3",
   "version": "3.8.8"
  }
 },
 "nbformat": 4,
 "nbformat_minor": 5
}
