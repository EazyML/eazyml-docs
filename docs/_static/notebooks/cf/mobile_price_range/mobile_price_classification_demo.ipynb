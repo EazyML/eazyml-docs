{
 "cells": [
  {
   "cell_type": "markdown",
   "metadata": {},
   "source": [
    "# EazyML Counterfactual"
   ]
  },
  {
   "cell_type": "markdown",
   "metadata": {},
   "source": [
    "### Install eazyml-counterfactual library"
   ]
  },
  {
   "cell_type": "code",
   "execution_count": null,
   "metadata": {},
   "outputs": [],
   "source": [
    "!pip install --upgrade eazyml-counterfactual\n",
    "!pip install gdown python-dotenv"
   ]
  },
  {
   "cell_type": "markdown",
   "metadata": {},
   "source": [
    "### Import Libraries"
   ]
  },
  {
   "cell_type": "code",
   "execution_count": null,
   "metadata": {},
   "outputs": [],
   "source": [
    "import os\n",
    "import pandas as pd\n",
    "import eazyml as ez\n",
    "from eazyml_counterfactual import (\n",
    "        ez_cf_inference,\n",
    "        ez_init        \n",
    ")\n",
    "import gdown\n",
    "\n",
    "from dotenv import load_dotenv\n",
    "load_dotenv()"
   ]
  },
  {
   "cell_type": "markdown",
   "metadata": {},
   "source": [
    "### Initialize EazyML"
   ]
  },
  {
   "cell_type": "code",
   "execution_count": null,
   "metadata": {},
   "outputs": [],
   "source": [
    "ez_init(os.getenv('EAZYML_ACCESS_KEY'))"
   ]
  },
  {
   "cell_type": "markdown",
   "metadata": {},
   "source": [
    "## 1. Download the dataset and specify the outcome variable"
   ]
  },
  {
   "cell_type": "markdown",
   "metadata": {},
   "source": [
    "### 1.1. Download dataset"
   ]
  },
  {
   "cell_type": "code",
   "execution_count": null,
   "metadata": {},
   "outputs": [],
   "source": [
    "gdown.download_folder(id='1WvIOaIvS7hTlYSkeojYhnBpAWd8HWzDt')"
   ]
  },
  {
   "cell_type": "markdown",
   "metadata": {},
   "source": [
    "###  1.2. Define dataset file and outcome variable"
   ]
  },
  {
   "cell_type": "code",
   "execution_count": null,
   "metadata": {},
   "outputs": [],
   "source": [
    "# Defining file paths for training and test datasets and specifying the outcome variable\n",
    "train_file = os.path.join('data', \"Mobile Price Ternary - Train Data.xlsx\")\n",
    "test_file = os.path.join('data', \"Mobile Price Ternary - Test Data.xlsx\")\n",
    "outcome = \"price_range\"\n",
    "\n",
    "# Loading the training dataset and the test dataset\n",
    "train_df = pd.read_excel(train_file)\n",
    "test_df = pd.read_excel(test_file)\n",
    "\n",
    "# Display the first few rows of the training DataFrame for inspection\n",
    "ez.ez_display_df(train_df.head())"
   ]
  },
  {
   "cell_type": "markdown",
   "metadata": {},
   "source": [
    "## 2. EazyML Modeling"
   ]
  },
  {
   "cell_type": "markdown",
   "metadata": {},
   "source": [
    "### 2.1. Building model using the EazyML Modeling API"
   ]
  },
  {
   "cell_type": "code",
   "execution_count": null,
   "metadata": {},
   "outputs": [],
   "source": [
    "# Clean and preprocess training data\n",
    "train_df.drop(columns=['Unnamed: 0'], inplace=True)  # Remove unnecessary columns\n",
    "\n",
    "# Define model parameters\n",
    "model_options = {\n",
    "    \"model_type\": \"predictive\",\n",
    "}\n",
    "\n",
    "# Build predictive model using EazyML API\n",
    "build_model_response = ez.ez_build_model(train_df, outcome=outcome, options=model_options)"
   ]
  },
  {
   "cell_type": "markdown",
   "metadata": {},
   "source": [
    "### 2.2. Feature Importance"
   ]
  },
  {
   "cell_type": "code",
   "execution_count": null,
   "metadata": {},
   "outputs": [],
   "source": [
    "ez.ez_display_df(build_model_response['global_importance'])"
   ]
  },
  {
   "cell_type": "markdown",
   "metadata": {},
   "source": [
    "### 2.3. Model Importance"
   ]
  },
  {
   "cell_type": "code",
   "execution_count": null,
   "metadata": {},
   "outputs": [],
   "source": [
    "ez.ez_display_df(build_model_response['model_performance'])"
   ]
  },
  {
   "cell_type": "markdown",
   "metadata": {},
   "source": [
    "### 2.4. Predict Using the Trained EazyML Model"
   ]
  },
  {
   "cell_type": "code",
   "execution_count": null,
   "metadata": {},
   "outputs": [],
   "source": [
    "# Extract model information from the response dictionary\n",
    "model_info = build_model_response[\"model_info\"]\n",
    "\n",
    "# Read test data from a CSV file into a pandas DataFrame\n",
    "test_data = pd.read_excel(test_file)\n",
    "\n",
    "# Make predictions using the model, requesting confidence scores and class probabilities\n",
    "predicted_resp = ez.ez_predict(test_data, model_info, options={\"confidence_score\": True, \"class_probability\": True})\n",
    "\n",
    "# Check if the prediction was successful\n",
    "if predicted_resp['success']:\n",
    "    print(\"Prediction successful\")  \n",
    "    predicted_df = predicted_resp['pred_df']  # Extract the predicted DataFrame\n",
    "    ez.ez_display_df(predicted_df.head())  # Display the first few rows of the predicted DataFrame\n",
    "else:\n",
    "    print(\"Prediction failed\")  \n",
    "    print(predicted_resp['message'])  "
   ]
  },
  {
   "cell_type": "markdown",
   "metadata": {},
   "source": [
    "## 3. EazyML Counterfactual Inference"
   ]
  },
  {
   "cell_type": "markdown",
   "metadata": {},
   "source": [
    "### 3.1. Define Counterfactual Inference Configuration"
   ]
  },
  {
   "cell_type": "code",
   "execution_count": null,
   "metadata": {},
   "outputs": [],
   "source": [
    "# Define the selected features for prediction\n",
    "selected_features = ['sc_w', 'n_cores', 'mobile_wt', 'talk_time', 'ram', 'px_width', 'px_height', \n",
    "                     'battery_power', 'pc', 'fc', 'm_dep', 'int_memory', 'sc_h']\n",
    "\n",
    "# Define variant (modifiable) features\n",
    "invariants = []\n",
    "variants = [feature for feature in selected_features if feature not in invariants]\n",
    "\n",
    "# Define configurable parameters for counterfactual inference\n",
    "cf_options = {   \n",
    "    \"variants\": variants,  \n",
    "    \"outcome_ordinality\": \"1\",  # Desired outcome \n",
    "    \"train_data\": train_file  \n",
    "}"
   ]
  },
  {
   "cell_type": "markdown",
   "metadata": {},
   "source": [
    "### 3.2. Perform Counterfactual Inference"
   ]
  },
  {
   "cell_type": "code",
   "execution_count": null,
   "metadata": {},
   "outputs": [],
   "source": [
    "# Specify the index of the test record for counterfactual inference\n",
    "test_index_no = 0  \n",
    "test_data = predicted_df.loc[[test_index_no]]  \n",
    "\n",
    "# Perform Inference \n",
    "result, optimal_transition_df = ez_cf_inference(\n",
    "    test_data=test_data,  \n",
    "    outcome=outcome,  \n",
    "    selected_features=selected_features,  \n",
    "    model_info=model_info,  \n",
    "    options=cf_options  \n",
    ")"
   ]
  },
  {
   "cell_type": "markdown",
   "metadata": {},
   "source": [
    "### 3.3. Display Results"
   ]
  },
  {
   "cell_type": "code",
   "execution_count": null,
   "metadata": {},
   "outputs": [],
   "source": [
    "# Summarizes whether an optimal transition was found and the improvement in outcome probability.\n",
    "ez.ez_display_json(result)"
   ]
  },
  {
   "cell_type": "code",
   "execution_count": null,
   "metadata": {},
   "outputs": [],
   "source": [
    "# Details the feature changes needed to achieve the optimal outcome.\n",
    "ez.ez_display_df(optimal_transition_df)"
   ]
  },
  {
   "cell_type": "code",
   "execution_count": null,
   "metadata": {},
   "outputs": [],
   "source": []
  }
 ],
 "metadata": {
  "kernelspec": {
   "display_name": "py310",
   "language": "python",
   "name": "python3"
  },
  "language_info": {
   "codemirror_mode": {
    "name": "ipython",
    "version": 3
   },
   "file_extension": ".py",
   "mimetype": "text/x-python",
   "name": "python",
   "nbconvert_exporter": "python",
   "pygments_lexer": "ipython3",
   "version": "3.10.12"
  },
  "varInspector": {
   "cols": {
    "lenName": 16,
    "lenType": 16,
    "lenVar": 40
   },
   "kernels_config": {
    "python": {
     "delete_cmd_postfix": "",
     "delete_cmd_prefix": "del ",
     "library": "var_list.py",
     "varRefreshCmd": "print(var_dic_list())"
    },
    "r": {
     "delete_cmd_postfix": ") ",
     "delete_cmd_prefix": "rm(",
     "library": "var_list.r",
     "varRefreshCmd": "cat(var_dic_list()) "
    }
   },
   "types_to_exclude": [
    "module",
    "function",
    "builtin_function_or_method",
    "instance",
    "_Feature"
   ],
   "window_display": false
  }
 },
 "nbformat": 4,
 "nbformat_minor": 4
}
