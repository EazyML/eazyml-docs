{
 "cells": [
  {
   "cell_type": "markdown",
   "metadata": {},
   "source": [
    "### Install eazyml-counterfactual library"
   ]
  },
  {
   "cell_type": "code",
   "execution_count": null,
   "metadata": {},
   "outputs": [],
   "source": [
    "!pip install --upgrade eazyml-counterfactual\n",
    "!pip install gdown python-dotenv"
   ]
  },
  {
   "cell_type": "markdown",
   "metadata": {},
   "source": [
    "### Import Libraries"
   ]
  },
  {
   "cell_type": "code",
   "execution_count": null,
   "metadata": {},
   "outputs": [],
   "source": [
    "import os\n",
    "import numpy as np\n",
    "import pandas as pd\n",
    "import eazyml as ez\n",
    "from eazyml_counterfactual import (\n",
    "        ez_cf_inference,\n",
    "        ez_init        \n",
    ")\n",
    "import gdown\n",
    "\n",
    "from dotenv import load_dotenv\n",
    "load_dotenv()\n",
    "\n",
    "# Scikit-learn libraries for model building\n",
    "from sklearn.impute import SimpleImputer\n",
    "from sklearn.preprocessing import StandardScaler, OneHotEncoder\n",
    "from sklearn.linear_model import LinearRegression\n",
    "from sklearn.metrics import mean_squared_error, mean_absolute_error, r2_score"
   ]
  },
  {
   "cell_type": "markdown",
   "metadata": {},
   "source": [
    "### Initialize EazyML\n",
    "The `ez_init` function uses the `EAZYML_ACCESS_KEY` environment variable for authentication. If the variable is not set, it defaults to a trial license."
   ]
  },
  {
   "cell_type": "code",
   "execution_count": null,
   "metadata": {},
   "outputs": [],
   "source": [
    "ez_init(os.getenv('EAZYML_ACCESS_KEY'))"
   ]
  },
  {
   "cell_type": "markdown",
   "metadata": {},
   "source": [
    "## 1. Download the dataset and specify the outcome variable"
   ]
  },
  {
   "cell_type": "markdown",
   "metadata": {},
   "source": [
    "### 1.1. Download dataset"
   ]
  },
  {
   "cell_type": "code",
   "execution_count": null,
   "metadata": {},
   "outputs": [],
   "source": [
    "gdown.download_folder(id='1p7Udh2MjKyJPxI47FS89VowAz9ZEq_hG')"
   ]
  },
  {
   "cell_type": "markdown",
   "metadata": {},
   "source": [
    "###  1.2. Define dataset file and outcome variable"
   ]
  },
  {
   "cell_type": "code",
   "execution_count": null,
   "metadata": {},
   "outputs": [],
   "source": [
    "# Defining file paths for training and test datasets and specifying the outcome variable\n",
    "train_file = os.path.join('data', \"House Price Prediction - Train Data.xlsx\")\n",
    "test_file = os.path.join('data', \"House Price Prediction - Test Data.xlsx\")\n",
    "outcome = \"House_Price\"\n",
    "\n",
    "# Loading the training dataset and the test dataset\n",
    "train_df = pd.read_excel(train_file)\n",
    "test_df = pd.read_excel(test_file)\n",
    "\n",
    "# Display the first few rows of the training DataFrame for inspection\n",
    "ez.ez_display_df(train_df.head())"
   ]
  },
  {
   "cell_type": "markdown",
   "metadata": {},
   "source": [
    "## 2. Custom Modeling with Scikit-learn"
   ]
  },
  {
   "cell_type": "markdown",
   "metadata": {},
   "source": [
    "### 2.1. Unified Preprocessing Class for Regression"
   ]
  },
  {
   "cell_type": "code",
   "execution_count": null,
   "metadata": {},
   "outputs": [],
   "source": [
    "class UnifiedRegressorPreprocessor:\n",
    "    \"\"\"Preprocessor for handling numerical and categorical features, \n",
    "    including scaling, encoding, and missing value imputation.\"\"\"\n",
    "\n",
    "    def __init__(self):\n",
    "        self.numerical_imputer = SimpleImputer(strategy=\"mean\")\n",
    "        self.scaler = StandardScaler()\n",
    "        self.categorical_encoder = OneHotEncoder(drop=\"first\", sparse=False)\n",
    "        self.target_scaler = StandardScaler()\n",
    "        self.fitted = False\n",
    "\n",
    "    def fit(self, X, y=None):\n",
    "        \"\"\"Fits preprocessing transformations on numerical & categorical features and target variable (if provided).\"\"\"\n",
    "        self.numerical_columns = X.select_dtypes(include=[np.number]).columns\n",
    "        self.categorical_columns = X.select_dtypes(include=[object]).columns\n",
    "\n",
    "        self.numerical_imputer.fit(X[self.numerical_columns])\n",
    "        self.scaler.fit(X[self.numerical_columns])\n",
    "        self.categorical_encoder.fit(X[self.categorical_columns])\n",
    "\n",
    "        if y is not None:\n",
    "            self.target_scaler.fit(np.array(y).reshape(-1, 1))\n",
    "\n",
    "        self.fitted = True\n",
    "\n",
    "    def transform(self, X, y=None):\n",
    "        \"\"\"Applies fitted transformations to the dataset.\"\"\"\n",
    "        if not self.fitted:\n",
    "            raise ValueError(\"Preprocessor not fitted. Call 'fit' first.\")\n",
    "\n",
    "        X_num = self.scaler.transform(self.numerical_imputer.transform(X[self.numerical_columns]))\n",
    "        X_cat = self.categorical_encoder.transform(X[self.categorical_columns])\n",
    "        feature_names = list(self.numerical_columns) + list(self.categorical_encoder.get_feature_names_out())\n",
    "\n",
    "        X_transformed_df = pd.DataFrame(np.hstack((X_num, X_cat)), columns=feature_names, index=X.index)\n",
    "\n",
    "        if y is not None:\n",
    "            y_transformed = self.target_scaler.transform(np.array(y).reshape(-1, 1)).flatten()\n",
    "            return X_transformed_df, y_transformed\n",
    "\n",
    "        return X_transformed_df\n",
    "\n",
    "    def inverse_transform_outcome(self, y):\n",
    "        \"\"\"Reverts the target variable to its original scale.\"\"\"\n",
    "        return self.target_scaler.inverse_transform(np.array(y).reshape(-1, 1)).flatten()\n",
    "\n",
    "    def fit_transform(self, X, y=None):\n",
    "        \"\"\"Combines fit and transform steps.\"\"\"\n",
    "        self.fit(X, y)\n",
    "        return self.transform(X, y)\n"
   ]
  },
  {
   "cell_type": "markdown",
   "metadata": {},
   "source": [
    "### 2.2. Train and Evaluate Linear Regression Model"
   ]
  },
  {
   "cell_type": "code",
   "execution_count": null,
   "metadata": {},
   "outputs": [],
   "source": [
    "# Prepare training and test datasets\n",
    "X_train, y_train = train_df.drop(columns=[outcome]), train_df[outcome]\n",
    "X_test, y_test = test_df.drop(columns=[outcome]), test_df[outcome]\n",
    "\n",
    "# Initialize and apply preprocessing\n",
    "preprocessor = UnifiedRegressorPreprocessor()\n",
    "X_train_transformed, y_train_transformed = preprocessor.fit_transform(X_train, y_train)\n",
    "X_test_transformed, y_test_transformed = preprocessor.transform(X_test, y_test)\n",
    "\n",
    "# Train Linear Regression model\n",
    "model = LinearRegression()\n",
    "model.fit(X_train_transformed, y_train_transformed)\n",
    "\n",
    "# Generate predictions and revert scaling\n",
    "y_pred_transformed = model.predict(X_test_transformed)\n",
    "y_pred = preprocessor.inverse_transform_outcome(y_pred_transformed)\n",
    "\n",
    "# Add predictions to test DataFrame\n",
    "predicted_df = test_df.copy()\n",
    "predicted_df[f\"Predicted {outcome}\"] = y_pred\n",
    "\n",
    "# Display sample predictions\n",
    "print(\"\\nTest DataFrame with Predictions:\")\n",
    "display(predicted_df.head(10))\n",
    "\n",
    "# Evaluate model performance\n",
    "metrics = {\n",
    "    \"RMSE\": np.sqrt(mean_squared_error(y_test, y_pred)),\n",
    "    \"MAE\": mean_absolute_error(y_test, y_pred),\n",
    "    \"R2 Score\": r2_score(y_test, y_pred),\n",
    "}\n",
    "\n",
    "print(\"\\nModel Performance Metrics:\")\n",
    "for metric, value in metrics.items():\n",
    "    print(f\"{metric}: {value:.2f}\")\n",
    "    "
   ]
  },
  {
   "cell_type": "markdown",
   "metadata": {},
   "source": [
    "## 3. EazyML Counterfactual Inference"
   ]
  },
  {
   "cell_type": "markdown",
   "metadata": {},
   "source": [
    "### 3.1. Define Counterfactual Inference Configuration"
   ]
  },
  {
   "cell_type": "code",
   "execution_count": null,
   "metadata": {},
   "outputs": [],
   "source": [
    "# Define the selected features for prediction\n",
    "selected_features = ['Square_Footage', 'Num_Bedrooms', 'Num_Bathrooms', 'Year_Built', \n",
    "                     'Lot_Size', 'Garage_Size', 'Neighborhood_Quality']\n",
    "\n",
    "# Define variant (modifiable) features\n",
    "invariants = ['Year_Built']\n",
    "variants = [feature for feature in selected_features if feature not in invariants]\n",
    "\n",
    "# Define configurable parameters for counterfactual inference\n",
    "cf_options = {   \n",
    "    \"variants\": variants,  \n",
    "    \"outcome_ordinality\": \"maximize\",  # Desired action \n",
    "    \"train_data\": train_file,\n",
    "    \"preprocessor\": preprocessor,\n",
    "}"
   ]
  },
  {
   "cell_type": "markdown",
   "metadata": {},
   "source": [
    "### 3.2. Perform Counterfactual Inference"
   ]
  },
  {
   "cell_type": "code",
   "execution_count": null,
   "metadata": {},
   "outputs": [],
   "source": [
    "# Specify the index of the test record for counterfactual inference\n",
    "test_index_no = 0  \n",
    "test_data = predicted_df.loc[[test_index_no]]  \n",
    "\n",
    "# Perform Inference \n",
    "result, optimal_transition_df = ez_cf_inference(\n",
    "    test_data=test_data,  \n",
    "    outcome=outcome,  \n",
    "    selected_features=selected_features,  \n",
    "    model_info=model,  \n",
    "    options=cf_options  \n",
    ")"
   ]
  },
  {
   "cell_type": "markdown",
   "metadata": {},
   "source": [
    "### 3.3. Display Results"
   ]
  },
  {
   "cell_type": "code",
   "execution_count": null,
   "metadata": {},
   "outputs": [],
   "source": [
    "# Summarizes whether an optimal transition was found.\n",
    "ez.ez_display_json(result)"
   ]
  },
  {
   "cell_type": "code",
   "execution_count": null,
   "metadata": {},
   "outputs": [],
   "source": [
    "# Details the feature changes needed to achieve the optimal outcome.\n",
    "ez.ez_display_df(optimal_transition_df)"
   ]
  },
  {
   "cell_type": "code",
   "execution_count": null,
   "metadata": {},
   "outputs": [],
   "source": []
  },
  {
   "cell_type": "code",
   "execution_count": null,
   "metadata": {},
   "outputs": [],
   "source": []
  }
 ],
 "metadata": {
  "kernelspec": {
   "display_name": "py310",
   "language": "python",
   "name": "python3"
  },
  "language_info": {
   "codemirror_mode": {
    "name": "ipython",
    "version": 3
   },
   "file_extension": ".py",
   "mimetype": "text/x-python",
   "name": "python",
   "nbconvert_exporter": "python",
   "pygments_lexer": "ipython3",
   "version": "3.10.12"
  },
  "varInspector": {
   "cols": {
    "lenName": 16,
    "lenType": 16,
    "lenVar": 40
   },
   "kernels_config": {
    "python": {
     "delete_cmd_postfix": "",
     "delete_cmd_prefix": "del ",
     "library": "var_list.py",
     "varRefreshCmd": "print(var_dic_list())"
    },
    "r": {
     "delete_cmd_postfix": ") ",
     "delete_cmd_prefix": "rm(",
     "library": "var_list.r",
     "varRefreshCmd": "cat(var_dic_list()) "
    }
   },
   "types_to_exclude": [
    "module",
    "function",
    "builtin_function_or_method",
    "instance",
    "_Feature"
   ],
   "window_display": false
  }
 },
 "nbformat": 4,
 "nbformat_minor": 4
}
