{
 "cells": [
  {
   "cell_type": "markdown",
   "metadata": {},
   "source": [
    "# EazyML Counterfactual Template"
   ]
  },
  {
   "cell_type": "markdown",
   "metadata": {
    "jp-MarkdownHeadingCollapsed": true
   },
   "source": [
    "## Define Imports"
   ]
  },
  {
   "cell_type": "code",
   "execution_count": null,
   "metadata": {},
   "outputs": [],
   "source": [
    "!pip install --upgrade eazyml-counterfactual\n",
    "!pip install gdown python-dotenv"
   ]
  },
  {
   "cell_type": "code",
   "execution_count": null,
   "metadata": {},
   "outputs": [],
   "source": [
    "import os\n",
    "import pandas as pd\n",
    "import eazyml as ez\n",
    "from eazyml_counterfactual import (\n",
    "        ez_cf_inference,\n",
    "        ez_init        \n",
    ")\n",
    "import gdown\n",
    "\n",
    "from dotenv import load_dotenv\n",
    "load_dotenv()"
   ]
  },
  {
   "cell_type": "markdown",
   "metadata": {
    "jp-MarkdownHeadingCollapsed": true
   },
   "source": [
    "## 1. Initialize EazyML"
   ]
  },
  {
   "cell_type": "markdown",
   "metadata": {},
   "source": [
    "The `ez_init` function uses the `EAZYML_ACCESS_KEY` environment variable for authentication. If the variable is not set, it defaults to a trial license."
   ]
  },
  {
   "cell_type": "code",
   "execution_count": null,
   "metadata": {},
   "outputs": [],
   "source": [
    "ez_init(os.getenv('EAZYML_ACCESS_KEY'))"
   ]
  },
  {
   "cell_type": "markdown",
   "metadata": {
    "jp-MarkdownHeadingCollapsed": true
   },
   "source": [
    "## 2. Define Dataset Files and Outcome Variable"
   ]
  },
  {
   "cell_type": "code",
   "execution_count": null,
   "metadata": {},
   "outputs": [],
   "source": [
    "gdown.download_folder(id='1WvIOaIvS7hTlYSkeojYhnBpAWd8HWzDt')"
   ]
  },
  {
   "cell_type": "code",
   "execution_count": null,
   "metadata": {},
   "outputs": [],
   "source": [
    "# Defining file paths for training and test datasets and specifying the outcome variable\n",
    "train_file = os.path.join('data', \"airline_train_data.csv\")\n",
    "test_file = os.path.join('data', \"airline_test_data.csv\")\n",
    "outcome = \"satisfaction\"\n",
    "\n",
    "# Loading the training dataset and the test dataset\n",
    "train_df = pd.read_csv(train_file)\n",
    "test_df = pd.read_csv(test_file)"
   ]
  },
  {
   "cell_type": "markdown",
   "metadata": {
    "jp-MarkdownHeadingCollapsed": true
   },
   "source": [
    "## 3. Dataset Information"
   ]
  },
  {
   "cell_type": "markdown",
   "metadata": {},
   "source": [
    "The dataset used in this notebook is the **Airline Passenger Satisfaction Dataset**, which contains data on passenger satisfaction with airlines. It includes various features such as the type of flight, passenger demographics, and overall satisfaction with the service.\n",
    "\n",
    "You can find more details and download the dataset from Kaggle using the following link:\n",
    "\n",
    "[Kaggle Airline Passenger Satisfaction Dataset](https://www.kaggle.com/datasets/teejmahal20/airline-passenger-satisfaction)\n",
    "\n",
    "### Columns in the Dataset:\n",
    "- **id**: Unique identifier for each passenger.\n",
    "- **Gender**: Gender of the passenger (Male/Female).\n",
    "- **Customer Type**: Type of customer (Loyal Customer/Disloyal Customer).\n",
    "- **Age**: Age of the passenger.\n",
    "- **Type of Travel**: Purpose of travel (Business/Personal).\n",
    "- **Class**: Flight class (Business/Eco/Eco Plus).\n",
    "- **Flight Distance**: Distance traveled in kilometers.\n",
    "- **Inflight wifi service**: Rating of inflight Wi-Fi service (1-5).\n",
    "- **Departure/Arrival time convenient**: Satisfaction level of Departure/Arrival time convenient (1-5).\n",
    "- **Ease of Online booking**: Satisfaction level of online booking (1-5).\n",
    "- **Gate location**: Satisfaction level of Gate location (1-5).\n",
    "- **Food and drink**: Rating of food and drink (1-5).\n",
    "- **Online boarding**: Satisfaction level of online boarding (1-5).\n",
    "- **Seat comfort**: Rating of seat comfort (1-5).\n",
    "- **Inflight entertainment**: Rating of inflight entertainment (1-5).\n",
    "- **On-board service**: Satisfaction level of On-board service (1-5).\n",
    "- **Leg room service**: Satisfaction level of Leg room service (1-5).\n",
    "- **Baggage handling**: Satisfaction level of baggage handling (1-5).\n",
    "- **Checkin service**: Satisfaction level of Check-in service (1-5).\n",
    "- **Inflight service**: Satisfaction level of inflight service (1-5).\n",
    "- **Cleanliness**: Rating of cleanliness (1-5).\n",
    "- **Departure Delay in Minutes**: Delay in minutes before departure.\n",
    "- **Arrival Delay in Minutes**: Delay in minutes after arrival.\n",
    "- **satisfaction**: Overall satisfaction of the passenger (Satisfied/Neutral or Dissatisfied)."
   ]
  },
  {
   "cell_type": "markdown",
   "metadata": {
    "jp-MarkdownHeadingCollapsed": true
   },
   "source": [
    "### 3.1 Display the Dataset"
   ]
  },
  {
   "cell_type": "markdown",
   "metadata": {},
   "source": [
    "Below is a preview of the dataset:"
   ]
  },
  {
   "cell_type": "code",
   "execution_count": null,
   "metadata": {},
   "outputs": [],
   "source": [
    "# Display the first few rows of the training DataFrame for inspection\n",
    "ez.ez_display_df(train_df)"
   ]
  },
  {
   "cell_type": "markdown",
   "metadata": {
    "jp-MarkdownHeadingCollapsed": true
   },
   "source": [
    "## 4. EazyML Modeling"
   ]
  },
  {
   "cell_type": "markdown",
   "metadata": {
    "jp-MarkdownHeadingCollapsed": true
   },
   "source": [
    "### 4.1 Building model using the EazyML Modeling API"
   ]
  },
  {
   "cell_type": "code",
   "execution_count": null,
   "metadata": {},
   "outputs": [],
   "source": [
    "# Clean and preprocess training data\n",
    "train_df.drop(columns=['id'], inplace=True)  # Remove unnecessary columns\n",
    "train_df.dropna(inplace=True)  # Remove missing values\n",
    "train_df.reset_index(drop=True, inplace=True)  # Reset index\n",
    "\n",
    "\n",
    "# Define model parameters\n",
    "model_options = {\n",
    "    \"model_type\": \"predictive\",\n",
    "}\n",
    "\n",
    "# Build predictive model using EazyML API\n",
    "build_model_response = ez.ez_build_model(train_df, outcome=outcome, options=model_options)"
   ]
  },
  {
   "cell_type": "markdown",
   "metadata": {
    "jp-MarkdownHeadingCollapsed": true
   },
   "source": [
    "### 4.2 Feature Importance"
   ]
  },
  {
   "cell_type": "code",
   "execution_count": null,
   "metadata": {},
   "outputs": [],
   "source": [
    "ez.ez_display_df(build_model_response['global_importance'])"
   ]
  },
  {
   "cell_type": "markdown",
   "metadata": {
    "jp-MarkdownHeadingCollapsed": true
   },
   "source": [
    "### 4.3 Model Importance"
   ]
  },
  {
   "cell_type": "code",
   "execution_count": null,
   "metadata": {},
   "outputs": [],
   "source": [
    "ez.ez_display_df(build_model_response['model_performance'])"
   ]
  },
  {
   "cell_type": "markdown",
   "metadata": {
    "jp-MarkdownHeadingCollapsed": true
   },
   "source": [
    "### 4.4 Predict Using the Trained EazyML Model"
   ]
  },
  {
   "cell_type": "code",
   "execution_count": null,
   "metadata": {},
   "outputs": [],
   "source": [
    "# Extract model information from the response dictionary\n",
    "model_info = build_model_response[\"model_info\"]\n",
    "\n",
    "# Read test data from a CSV file into a pandas DataFrame\n",
    "test_data = pd.read_csv(test_file)\n",
    "\n",
    "# Make predictions using the model, requesting confidence scores and class probabilities\n",
    "predicted_resp = ez.ez_predict(test_data, model_info, options={\"confidence_score\": True, \"class_probability\": True})\n",
    "\n",
    "# Check if the prediction was successful\n",
    "if predicted_resp['success']:\n",
    "    print(\"Prediction successful\")  \n",
    "    predicted_df = predicted_resp['pred_df']  # Extract the predicted DataFrame\n",
    "    ez.ez_display_df(predicted_df.head())  # Display the first few rows of the predicted DataFrame\n",
    "else:\n",
    "    print(\"Prediction failed\")  \n",
    "    print(predicted_resp['message'])  "
   ]
  },
  {
   "cell_type": "markdown",
   "metadata": {
    "jp-MarkdownHeadingCollapsed": true
   },
   "source": [
    "## 5. EazyML Counterfactual Inference"
   ]
  },
  {
   "cell_type": "markdown",
   "metadata": {
    "jp-MarkdownHeadingCollapsed": true
   },
   "source": [
    "### 5.1 Define Counterfactual Inference Configuration"
   ]
  },
  {
   "cell_type": "code",
   "execution_count": null,
   "metadata": {},
   "outputs": [],
   "source": [
    "# Define the selected features for prediction\n",
    "selected_features = ['Gender', 'Customer Type', 'Age', 'Type of Travel', 'Class', 'Flight Distance', \n",
    "                     'Inflight wifi service', 'Departure/Arrival time convenient', 'Ease of Online booking', \n",
    "                     'Gate location', 'Food and drink', 'Online boarding', 'Seat comfort', \n",
    "                     'Inflight entertainment', 'On-board service', 'Leg room service', \n",
    "                     'Baggage handling', 'Checkin service', 'Inflight service', 'Cleanliness', \n",
    "                     'Departure Delay in Minutes', 'Arrival Delay in Minutes']\n",
    "\n",
    "# Define variant (modifiable) features\n",
    "invariants = ['Gender', 'Customer Type', 'Age', 'Type of Travel', 'Class', 'Flight Distance']\n",
    "variants = [feature for feature in selected_features if feature not in invariants]\n",
    "\n",
    "# Define configurable parameters for counterfactual inference\n",
    "cf_options = {   \n",
    "    \"variants\": variants,  \n",
    "    \"outcome_ordinality\": \"SATISFIED\",  # Desired outcome \n",
    "    \"train_data\": train_file  \n",
    "}"
   ]
  },
  {
   "cell_type": "markdown",
   "metadata": {
    "jp-MarkdownHeadingCollapsed": true
   },
   "source": [
    "### 5.2 Perform Counterfactual Inference"
   ]
  },
  {
   "cell_type": "code",
   "execution_count": null,
   "metadata": {},
   "outputs": [],
   "source": [
    "# Specify the index of the test record for counterfactual inference\n",
    "test_index_no = 0  \n",
    "test_data = predicted_df.loc[[test_index_no]]  \n",
    "\n",
    "# Perform Inference \n",
    "result, optimal_transition_df = ez_cf_inference(\n",
    "    test_data=test_data,  \n",
    "    outcome=outcome,  \n",
    "    selected_features=selected_features,  \n",
    "    model_info=model_info,  \n",
    "    options=cf_options  \n",
    ")"
   ]
  },
  {
   "cell_type": "markdown",
   "metadata": {
    "jp-MarkdownHeadingCollapsed": true
   },
   "source": [
    "### 5.3 Display Results"
   ]
  },
  {
   "cell_type": "code",
   "execution_count": null,
   "metadata": {},
   "outputs": [],
   "source": [
    "# Summarizes whether an optimal transition was found and the improvement in outcome probability.\n",
    "ez.ez_display_json(result)"
   ]
  },
  {
   "cell_type": "code",
   "execution_count": null,
   "metadata": {},
   "outputs": [],
   "source": [
    "# Details the feature changes needed to achieve the optimal outcome.\n",
    "ez.ez_display_df(optimal_transition_df)"
   ]
  },
  {
   "cell_type": "code",
   "execution_count": null,
   "metadata": {},
   "outputs": [],
   "source": []
  }
 ],
 "metadata": {
  "kernelspec": {
   "display_name": "py310",
   "language": "python",
   "name": "python3"
  },
  "language_info": {
   "codemirror_mode": {
    "name": "ipython",
    "version": 3
   },
   "file_extension": ".py",
   "mimetype": "text/x-python",
   "name": "python",
   "nbconvert_exporter": "python",
   "pygments_lexer": "ipython3",
   "version": "3.10.12"
  },
  "varInspector": {
   "cols": {
    "lenName": 16,
    "lenType": 16,
    "lenVar": 40
   },
   "kernels_config": {
    "python": {
     "delete_cmd_postfix": "",
     "delete_cmd_prefix": "del ",
     "library": "var_list.py",
     "varRefreshCmd": "print(var_dic_list())"
    },
    "r": {
     "delete_cmd_postfix": ") ",
     "delete_cmd_prefix": "rm(",
     "library": "var_list.r",
     "varRefreshCmd": "cat(var_dic_list()) "
    }
   },
   "types_to_exclude": [
    "module",
    "function",
    "builtin_function_or_method",
    "instance",
    "_Feature"
   ],
   "window_display": false
  }
 },
 "nbformat": 4,
 "nbformat_minor": 4
}
