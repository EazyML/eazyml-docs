{
 "cells": [
  {
   "cell_type": "markdown",
   "id": "ce1a5dfe-7aac-4aa0-8f15-e6788ed54b6d",
   "metadata": {},
   "source": [
    "# EazyML Data Quality Template"
   ]
  },
  {
   "cell_type": "markdown",
   "id": "9ea2af79-a33f-4f8a-966c-a52301c3d3d3",
   "metadata": {},
   "source": [
    "## Define Imports"
   ]
  },
  {
   "cell_type": "code",
   "execution_count": null,
   "id": "7564d2af-384f-4db5-9b23-08a2d467563e",
   "metadata": {},
   "outputs": [],
   "source": [
    "!pip install --upgrade eazyml-data-quality\n",
    "!pip install --upgrade eazyml-automl\n",
    "!pip install gdown python-dotenv"
   ]
  },
  {
   "cell_type": "code",
   "execution_count": null,
   "id": "4472ce57-f70b-499e-b73f-323fababe39c",
   "metadata": {},
   "outputs": [],
   "source": [
    "import os\n",
    "from eazyml_data_quality import (\n",
    "    ez_init,\n",
    "    ez_data_quality\n",
    ")\n",
    "\n",
    "from eazyml import ez_display_df, ez_display_json\n",
    "import gdown\n",
    "import pandas as pd\n",
    "\n",
    "from dotenv import load_dotenv\n",
    "load_dotenv()"
   ]
  },
  {
   "cell_type": "markdown",
   "id": "72694c71",
   "metadata": {},
   "source": [
    "## 1. Initialize EazyML\n",
    "The `ez_init` function uses the `EAZYML_ACCESS_KEY` environment variable for authentication. If the variable is not set, it defaults to a trial license."
   ]
  },
  {
   "cell_type": "code",
   "execution_count": null,
   "id": "a019674e",
   "metadata": {},
   "outputs": [],
   "source": [
    "ez_init(access_key=os.getenv('EAZYML_ACCESS_KEY'))"
   ]
  },
  {
   "cell_type": "markdown",
   "id": "ae65c572-b631-4968-935d-e8349c5f5a70",
   "metadata": {},
   "source": [
    "## 2. Define Dataset Files and Outcome Variable"
   ]
  },
  {
   "cell_type": "code",
   "execution_count": null,
   "id": "4814b88d-e23a-41b3-9239-2571b046741c",
   "metadata": {},
   "outputs": [],
   "source": [
    "gdown.download_folder(id='1EobxYR3pg_Z3Sd4sETfe4aJLAsT98fL2')"
   ]
  },
  {
   "cell_type": "code",
   "execution_count": null,
   "id": "2aa7312d-cd97-49f8-9341-57a4a32cbffc",
   "metadata": {},
   "outputs": [],
   "source": [
    "# Names of the files that will be used by EazyML APIs\n",
    "eazyml_train_file = os.path.join('data', \"Heart_Attack_traindata.csv\")\n",
    "eazyml_test_file = os.path.join('data', \"Heart_Attack_testdata.csv\")\n",
    "\n",
    "# The column name for outcome of interest\n",
    "outcome = \"class\""
   ]
  },
  {
   "cell_type": "markdown",
   "id": "bf48dc36-9a00-4231-8240-94424909f517",
   "metadata": {},
   "source": [
    "## 3. EazyML Data Quality Assessment"
   ]
  },
  {
   "cell_type": "markdown",
   "id": "531b429a-ccf7-4f18-87c5-aea47361f6a7",
   "metadata": {},
   "source": [
    "### 3.1 Call ez_data_quality API, Perform All Checks"
   ]
  },
  {
   "cell_type": "code",
   "execution_count": null,
   "id": "04bb41ad-efef-4a63-8f9e-f633fab122e6",
   "metadata": {},
   "outputs": [],
   "source": [
    "options = {\n",
    "    \"data_shape\": \"yes\",\n",
    "    \"data_emptiness\": \"yes\",\n",
    "    \"data_balance\": \"yes\",\n",
    "    \"impute\": \"yes\",\n",
    "    \"data_outliers\": \"yes\",\n",
    "    \"remove_outliers\": \"yes\",\n",
    "    \"outcome_correlation\": \"yes\",\n",
    "    \"data_drift\": \"yes\",\n",
    "    \"model_drift\": \"yes\",\n",
    "    \"prediction_data\": eazyml_test_file,\n",
    "    \"data_completeness\": \"yes\",\n",
    "    \"data_correctness\": \"yes\"\n",
    "}\n",
    "\n",
    "res = ez_data_quality(eazyml_train_file, outcome, options)"
   ]
  },
  {
   "cell_type": "markdown",
   "id": "0f2c95de-dbb0-45b6-ab70-70ae08992b3c",
   "metadata": {},
   "source": [
    "### 3.2 Data Quality Assessment Results"
   ]
  },
  {
   "cell_type": "markdown",
   "id": "1bd0b210-8520-4db5-b4f2-6e2626c0acf2",
   "metadata": {},
   "source": [
    "#### 3.2.1 Data Quality Alerts: Check if Any Alerts Are True"
   ]
  },
  {
   "cell_type": "code",
   "execution_count": null,
   "id": "8c311a7b-6712-44fb-90d5-ca4ff032bf4a",
   "metadata": {},
   "outputs": [],
   "source": [
    "alerts = res['data_bad_quality_alerts']\n",
    "ez_display_json(alerts)"
   ]
  },
  {
   "cell_type": "markdown",
   "id": "08bcb321-217e-40cc-a3ad-e61977c90869",
   "metadata": {
    "jp-MarkdownHeadingCollapsed": true
   },
   "source": [
    "#### 3.2.2 Data Completeness?"
   ]
  },
  {
   "cell_type": "code",
   "execution_count": null,
   "id": "80c840ef-0ef5-4a38-9816-f4f40d20897a",
   "metadata": {},
   "outputs": [],
   "source": [
    "ez_display_json(res['data_completeness_quality'])"
   ]
  },
  {
   "cell_type": "markdown",
   "id": "db2b4b6e-874a-4370-8096-c98163b9011e",
   "metadata": {
    "jp-MarkdownHeadingCollapsed": true
   },
   "source": [
    "#### 3.2.3 Data Balanced?"
   ]
  },
  {
   "cell_type": "code",
   "execution_count": null,
   "id": "7db28322-b8f7-4c52-9f0f-2bca8c5443bd",
   "metadata": {},
   "outputs": [],
   "source": [
    "ez_display_json(res['data_balance_quality'])"
   ]
  },
  {
   "cell_type": "markdown",
   "id": "d8d6df7d-3521-4f0b-91d7-9c3bf3d1fee3",
   "metadata": {
    "jp-MarkdownHeadingCollapsed": true
   },
   "source": [
    "#### 3.2.4 Data Correctness?"
   ]
  },
  {
   "cell_type": "code",
   "execution_count": null,
   "id": "fbcb4438-0384-4965-bf50-914d79163381",
   "metadata": {},
   "outputs": [],
   "source": [
    "ez_display_json(res['data_correctness_quality'])"
   ]
  },
  {
   "cell_type": "markdown",
   "id": "f8146d59-48da-416a-805d-a8c9f7c32498",
   "metadata": {
    "jp-MarkdownHeadingCollapsed": true
   },
   "source": [
    "#### 3.2.5 Data Correlations? Look for Strongly Correlated Features"
   ]
  },
  {
   "cell_type": "code",
   "execution_count": null,
   "id": "17564231-5dd5-4a3a-86d9-c063bff8b731",
   "metadata": {},
   "outputs": [],
   "source": [
    "feat_list = list(res['data_correlation_quality']['data_correlation'].keys())\n",
    "df_corr = pd.DataFrame(columns=feat_list)\n",
    "corr_dict = dict()\n",
    "\n",
    "for feat in res['data_correlation_quality']['data_correlation']:\n",
    "    corr_list = [0.0000 for i in range(len(df_corr.columns))]\n",
    "    corr_val = dict()\n",
    "    corr_list[feat_list.index(feat)] = 1.0000\n",
    "    for another_feat in res['data_correlation_quality']['data_correlation'][feat]:\n",
    "        corr_list[feat_list.index(another_feat)] = res['data_correlation_quality']['data_correlation'][feat][another_feat]\n",
    "        if res['data_correlation_quality']['data_correlation'][feat][another_feat] > 0.90:\n",
    "            corr_val[another_feat] = res['data_correlation_quality']['data_correlation'][feat][another_feat]\n",
    "    df_corr.loc[feat] = corr_list\n",
    "    if len(corr_val) != 0:\n",
    "        corr_dict[feat] = corr_val"
   ]
  },
  {
   "cell_type": "code",
   "execution_count": null,
   "id": "c305a788-e7fc-4608-af4c-bb874e53a230",
   "metadata": {},
   "outputs": [],
   "source": [
    "ez_display_json(corr_dict)"
   ]
  },
  {
   "cell_type": "markdown",
   "id": "17fe76d1-c87a-485b-abfb-938ff2a535a5",
   "metadata": {
    "jp-MarkdownHeadingCollapsed": true
   },
   "source": [
    "#### 3.2.6 Data Emptiness?"
   ]
  },
  {
   "cell_type": "code",
   "execution_count": null,
   "id": "8b50d2f7-fc34-4f25-9388-9cf5f592ff5d",
   "metadata": {},
   "outputs": [],
   "source": [
    "ez_display_json(res['data_emptiness_quality'])"
   ]
  },
  {
   "cell_type": "markdown",
   "id": "04bc5cc9-131d-4111-975a-275a8a38bb0e",
   "metadata": {
    "jp-MarkdownHeadingCollapsed": true
   },
   "source": [
    "#### 3.2.7 Data Dimension? Is it Adequate?"
   ]
  },
  {
   "cell_type": "code",
   "execution_count": null,
   "id": "cd0751ac-d1a7-4c7e-8bd6-3f666ff237bb",
   "metadata": {},
   "outputs": [],
   "source": [
    "ez_display_json(res['data_shape_quality'])"
   ]
  },
  {
   "cell_type": "markdown",
   "id": "96ceda2a-751b-416d-861c-b05dd301c4ac",
   "metadata": {
    "jp-MarkdownHeadingCollapsed": true
   },
   "source": [
    "#### 3.2.8 Data Outliers? "
   ]
  },
  {
   "cell_type": "code",
   "execution_count": null,
   "id": "d1634bff-99c5-4c73-98d7-75b86466e969",
   "metadata": {},
   "outputs": [],
   "source": [
    "try:\n",
    "    outlier_df = pd.DataFrame(data=res['data_outliers_quality']['outliers']['data'], \\\n",
    "                              columns=res['data_outliers_quality']['outliers']['columns'], \\\n",
    "                              index=res['data_outliers_quality']['outliers']['indices'])\n",
    "    ez_display_df(outlier_df.head())\n",
    "except:\n",
    "    print (\"no outlier\")"
   ]
  },
  {
   "cell_type": "markdown",
   "id": "4e199efb-ca97-4bd5-98f3-6d3125a05d3f",
   "metadata": {
    "jp-MarkdownHeadingCollapsed": true
   },
   "source": [
    "#### 3.2.9 Data Drift (Between Train and Test Datasets)"
   ]
  },
  {
   "cell_type": "code",
   "execution_count": null,
   "id": "55f48f8e-487c-4ce1-9f19-665848bec64a",
   "metadata": {},
   "outputs": [],
   "source": [
    "ez_display_json(res['drift_quality']['data_drift_analysis'])"
   ]
  },
  {
   "cell_type": "code",
   "execution_count": null,
   "id": "559aa4cf-0e66-4eb8-bee9-33b7654adcb8",
   "metadata": {},
   "outputs": [],
   "source": [
    "ks_drift = res['drift_quality']['data_drift_analysis']['ks_data_drift_analysis']['feature : p_value']\n",
    "drift_columns = []\n",
    "for feature in ks_drift:\n",
    "    if ks_drift[feature] < 0.05:\n",
    "        drift_columns.append(feature)\n",
    "        print(feature, ks_drift[feature])"
   ]
  },
  {
   "cell_type": "markdown",
   "id": "f07219c7-d077-40ca-8c8c-e4ade4ad6c74",
   "metadata": {
    "jp-MarkdownHeadingCollapsed": true
   },
   "source": [
    "#### 3.2.10 Model Drift (Between Train and Test Datasets)"
   ]
  },
  {
   "cell_type": "code",
   "execution_count": null,
   "id": "6ff897e8-0f71-44ae-99e7-d3eee28b2a64",
   "metadata": {},
   "outputs": [],
   "source": [
    "ez_display_json(res['drift_quality']['model_drift_analysis'])"
   ]
  },
  {
   "cell_type": "code",
   "execution_count": null,
   "id": "0485634e-4821-4293-894c-8cee12708fd1",
   "metadata": {},
   "outputs": [],
   "source": [
    "interval_drift = res['drift_quality']['model_drift_analysis']['interval_model_drift_analysis']['feature : OF_I']\n",
    "model_drift_columns = []\n",
    "for feature in interval_drift:\n",
    "    if interval_drift[feature] < 0.05:\n",
    "        model_drift_columns.append(feature)\n",
    "        print(feature, interval_drift[feature])"
   ]
  },
  {
   "cell_type": "code",
   "execution_count": null,
   "id": "2bfb5205-0ede-4793-9d24-af68fbf28448",
   "metadata": {},
   "outputs": [],
   "source": []
  }
 ],
 "metadata": {
  "kernelspec": {
   "display_name": "py310",
   "language": "python",
   "name": "python3"
  },
  "language_info": {
   "codemirror_mode": {
    "name": "ipython",
    "version": 3
   },
   "file_extension": ".py",
   "mimetype": "text/x-python",
   "name": "python",
   "nbconvert_exporter": "python",
   "pygments_lexer": "ipython3",
   "version": "3.10.12"
  }
 },
 "nbformat": 4,
 "nbformat_minor": 5
}
