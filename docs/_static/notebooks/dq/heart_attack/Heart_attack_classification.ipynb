{
 "cells": [
  {
   "cell_type": "markdown",
   "id": "ce1a5dfe-7aac-4aa0-8f15-e6788ed54b6d",
   "metadata": {},
   "source": [
    "# EazyML Data Quality Template"
   ]
  },
  {
   "cell_type": "markdown",
   "id": "9ea2af79-a33f-4f8a-966c-a52301c3d3d3",
   "metadata": {
    "jp-MarkdownHeadingCollapsed": true
   },
   "source": [
    "## Define Imports"
   ]
  },
  {
   "cell_type": "code",
   "execution_count": null,
   "id": "7564d2af-384f-4db5-9b23-08a2d467563e",
   "metadata": {},
   "outputs": [],
   "source": [
    "!pip install --upgrade eazyml-data-quality\n",
    "!pip install --upgrade eazyml-automl\n",
    "!pip install gdown python-dotenv"
   ]
  },
  {
   "cell_type": "code",
   "execution_count": null,
   "id": "4472ce57-f70b-499e-b73f-323fababe39c",
   "metadata": {},
   "outputs": [],
   "source": [
    "import os\n",
    "from eazyml_data_quality import (\n",
    "    ez_init,\n",
    "    ez_data_quality\n",
    ")\n",
    "\n",
    "from eazyml import ez_display_df, ez_display_json\n",
    "import gdown\n",
    "import pandas as pd\n",
    "\n",
    "\n",
    "from dotenv import load_dotenv\n",
    "load_dotenv()"
   ]
  },
  {
   "cell_type": "markdown",
   "id": "72694c71",
   "metadata": {
    "jp-MarkdownHeadingCollapsed": true
   },
   "source": [
    "## 1. Initialize EazyML"
   ]
  },
  {
   "cell_type": "markdown",
   "id": "68ddaef4-bcd9-4d9f-8272-10f9f3d4b0b6",
   "metadata": {},
   "source": [
    "The `ez_init` function uses the `EAZYML_ACCESS_KEY` environment variable for authentication. If the variable is not set, it defaults to a trial license."
   ]
  },
  {
   "cell_type": "code",
   "execution_count": null,
   "id": "a019674e",
   "metadata": {},
   "outputs": [],
   "source": [
    "ez_init(access_key=os.getenv('EAZYML_ACCESS_KEY'))"
   ]
  },
  {
   "cell_type": "markdown",
   "id": "ae65c572-b631-4968-935d-e8349c5f5a70",
   "metadata": {
    "jp-MarkdownHeadingCollapsed": true
   },
   "source": [
    "## 2. Define Dataset Files and Outcome Variable"
   ]
  },
  {
   "cell_type": "code",
   "execution_count": null,
   "id": "4814b88d-e23a-41b3-9239-2571b046741c",
   "metadata": {},
   "outputs": [],
   "source": [
    "gdown.download_folder(id='1EobxYR3pg_Z3Sd4sETfe4aJLAsT98fL2')"
   ]
  },
  {
   "cell_type": "code",
   "execution_count": null,
   "id": "2aa7312d-cd97-49f8-9341-57a4a32cbffc",
   "metadata": {},
   "outputs": [],
   "source": [
    "# Names of the files that will be used by EazyML APIs\n",
    "train_file_path = os.path.join('data', \"Heart_Attack_traindata.csv\")\n",
    "test_file_path = os.path.join('data', \"Heart_Attack_testdata.csv\")\n",
    "\n",
    "# The column name for outcome of interest\n",
    "outcome = \"class\""
   ]
  },
  {
   "cell_type": "markdown",
   "id": "da16d68b-9fed-4070-9e89-ef6946533ccd",
   "metadata": {
    "jp-MarkdownHeadingCollapsed": true
   },
   "source": [
    "## 3. Dataset Information"
   ]
  },
  {
   "cell_type": "markdown",
   "id": "60b7f833-84d3-4246-8e82-9ecab3c9c4ef",
   "metadata": {},
   "source": [
    "The dataset used in this notebook is the **Heart Attack Dataset**, which is a well-known dataset in machine learning and statistics. It contains data about patients, with several features (such as age, gender, blood pressure levels, and heart-related measurements) to predict the likelihood of a heart attack.\n",
    "\n",
    "### Columns in the Dataset:\n",
    "- **age**: The age of the patient, measured in years.\n",
    "- **gender**: The gender of the patient, represented as a categorical variable (e.g., 1 = male, 0 = female).\n",
    "- **impulse**: Refers to the patient's pulse rate, measured in beats per minute (bpm).\n",
    "- **pressurehight**: Refers to systolic blood pressure, the higher number in a blood pressure reading (e.g., 120/80 mmHg).\n",
    "- **pressurelow**: Refers to diastolic blood pressure, the lower number in a blood pressure reading (e.g., 120/80 mmHg).\n",
    "- **glucose**: A measurement related to the heart, likely referring to potassium (K) concentration.\n",
    "- **kcm**: This refer to a measurement related to the heart, related to potassium (K) concentration.\n",
    "- **troponin**: A protein found in the heart muscle, measured to assess heart damage (especially after a heart attack).\n",
    "- **class**: The target variable, indicating the presence or absence of a condition or disease (e.g., 1 = heart attack, 0 = no heart attack)."
   ]
  },
  {
   "cell_type": "markdown",
   "id": "23fdb657-8c69-40d8-88fd-a2a912e1bff6",
   "metadata": {
    "jp-MarkdownHeadingCollapsed": true
   },
   "source": [
    "### 3.1 Display the Dataset"
   ]
  },
  {
   "cell_type": "markdown",
   "id": "6dcceead-705d-4109-8549-73f9e54c7281",
   "metadata": {},
   "source": [
    "Below is a preview of the dataset:"
   ]
  },
  {
   "cell_type": "code",
   "execution_count": null,
   "id": "3d36760b-b27e-469c-9364-a5560522b4f6",
   "metadata": {},
   "outputs": [],
   "source": [
    "# Load the dataset from the provided file\n",
    "train = pd.read_csv(train_file_path)\n",
    "\n",
    "# Display the first few rows of the dataset\n",
    "ez_display_df(train.head())"
   ]
  },
  {
   "cell_type": "markdown",
   "id": "bf48dc36-9a00-4231-8240-94424909f517",
   "metadata": {
    "jp-MarkdownHeadingCollapsed": true
   },
   "source": [
    "## 4. EazyML Data Quality Assessment"
   ]
  },
  {
   "cell_type": "markdown",
   "id": "531b429a-ccf7-4f18-87c5-aea47361f6a7",
   "metadata": {
    "jp-MarkdownHeadingCollapsed": true
   },
   "source": [
    "### 4.1 Call ez_data_quality API, Perform All Checks"
   ]
  },
  {
   "cell_type": "code",
   "execution_count": null,
   "id": "04bb41ad-efef-4a63-8f9e-f633fab122e6",
   "metadata": {},
   "outputs": [],
   "source": [
    "options = {\n",
    "    \"data_shape\": \"yes\",\n",
    "    \"data_emptiness\": \"yes\",\n",
    "    \"data_balance\": \"yes\",\n",
    "    \"impute\": \"yes\",\n",
    "    \"data_outliers\": \"yes\",\n",
    "    \"remove_outliers\": \"yes\",\n",
    "    \"outcome_correlation\": \"yes\",\n",
    "    \"data_drift\": \"yes\",\n",
    "    \"model_drift\": \"yes\",\n",
    "    \"prediction_data\": test_file_path,\n",
    "    \"data_completeness\": \"yes\",\n",
    "    \"data_correctness\": \"yes\"\n",
    "}\n",
    "\n",
    "res = ez_data_quality(train_file_path, outcome, options)"
   ]
  },
  {
   "cell_type": "markdown",
   "id": "0f2c95de-dbb0-45b6-ab70-70ae08992b3c",
   "metadata": {
    "jp-MarkdownHeadingCollapsed": true
   },
   "source": [
    "### 4.2 Data Quality Assessment Results"
   ]
  },
  {
   "cell_type": "markdown",
   "id": "1bd0b210-8520-4db5-b4f2-6e2626c0acf2",
   "metadata": {
    "jp-MarkdownHeadingCollapsed": true
   },
   "source": [
    "#### 4.2.1 Data Quality Alerts: Check if Any Alerts Are True"
   ]
  },
  {
   "cell_type": "code",
   "execution_count": null,
   "id": "8c311a7b-6712-44fb-90d5-ca4ff032bf4a",
   "metadata": {},
   "outputs": [],
   "source": [
    "alerts = res['data_bad_quality_alerts']\n",
    "ez_display_json(alerts)"
   ]
  },
  {
   "cell_type": "markdown",
   "id": "08bcb321-217e-40cc-a3ad-e61977c90869",
   "metadata": {
    "jp-MarkdownHeadingCollapsed": true
   },
   "source": [
    "#### 4.2.2 Data Completeness?"
   ]
  },
  {
   "cell_type": "code",
   "execution_count": null,
   "id": "80c840ef-0ef5-4a38-9816-f4f40d20897a",
   "metadata": {},
   "outputs": [],
   "source": [
    "ez_display_json(res['data_completeness_quality'])"
   ]
  },
  {
   "cell_type": "markdown",
   "id": "db2b4b6e-874a-4370-8096-c98163b9011e",
   "metadata": {
    "jp-MarkdownHeadingCollapsed": true
   },
   "source": [
    "#### 4.2.3 Data Balanced?"
   ]
  },
  {
   "cell_type": "code",
   "execution_count": null,
   "id": "7db28322-b8f7-4c52-9f0f-2bca8c5443bd",
   "metadata": {},
   "outputs": [],
   "source": [
    "ez_display_json(res['data_balance_quality'])"
   ]
  },
  {
   "cell_type": "markdown",
   "id": "d8d6df7d-3521-4f0b-91d7-9c3bf3d1fee3",
   "metadata": {
    "jp-MarkdownHeadingCollapsed": true
   },
   "source": [
    "#### 4.2.4 Data Correctness?"
   ]
  },
  {
   "cell_type": "code",
   "execution_count": null,
   "id": "fbcb4438-0384-4965-bf50-914d79163381",
   "metadata": {},
   "outputs": [],
   "source": [
    "ez_display_json(res['data_correctness_quality'])"
   ]
  },
  {
   "cell_type": "markdown",
   "id": "f8146d59-48da-416a-805d-a8c9f7c32498",
   "metadata": {
    "jp-MarkdownHeadingCollapsed": true
   },
   "source": [
    "#### 4.2.5 Data Correlations? Look for Strongly Correlated Features"
   ]
  },
  {
   "cell_type": "code",
   "execution_count": null,
   "id": "17564231-5dd5-4a3a-86d9-c063bff8b731",
   "metadata": {},
   "outputs": [],
   "source": [
    "feat_list = list(res['data_correlation_quality']['data_correlation'].keys())\n",
    "df_corr = pd.DataFrame(columns=feat_list)\n",
    "corr_dict = dict()\n",
    "\n",
    "for feat in res['data_correlation_quality']['data_correlation']:\n",
    "    corr_list = [0.0000 for i in range(len(df_corr.columns))]\n",
    "    corr_val = dict()\n",
    "    corr_list[feat_list.index(feat)] = 1.0000\n",
    "    for another_feat in res['data_correlation_quality']['data_correlation'][feat]:\n",
    "        corr_list[feat_list.index(another_feat)] = res['data_correlation_quality']['data_correlation'][feat][another_feat]\n",
    "        if res['data_correlation_quality']['data_correlation'][feat][another_feat] > 0.90:\n",
    "            corr_val[another_feat] = res['data_correlation_quality']['data_correlation'][feat][another_feat]\n",
    "    df_corr.loc[feat] = corr_list\n",
    "    if len(corr_val) != 0:\n",
    "        corr_dict[feat] = corr_val"
   ]
  },
  {
   "cell_type": "code",
   "execution_count": null,
   "id": "c305a788-e7fc-4608-af4c-bb874e53a230",
   "metadata": {},
   "outputs": [],
   "source": [
    "ez_display_json(corr_dict)"
   ]
  },
  {
   "cell_type": "markdown",
   "id": "17fe76d1-c87a-485b-abfb-938ff2a535a5",
   "metadata": {
    "jp-MarkdownHeadingCollapsed": true
   },
   "source": [
    "#### 4.2.6 Data Emptiness?"
   ]
  },
  {
   "cell_type": "code",
   "execution_count": null,
   "id": "8b50d2f7-fc34-4f25-9388-9cf5f592ff5d",
   "metadata": {},
   "outputs": [],
   "source": [
    "ez_display_json(res['data_emptiness_quality'])"
   ]
  },
  {
   "cell_type": "markdown",
   "id": "04bc5cc9-131d-4111-975a-275a8a38bb0e",
   "metadata": {
    "jp-MarkdownHeadingCollapsed": true
   },
   "source": [
    "#### 4.2.7 Data Dimension? Is it Adequate?"
   ]
  },
  {
   "cell_type": "code",
   "execution_count": null,
   "id": "cd0751ac-d1a7-4c7e-8bd6-3f666ff237bb",
   "metadata": {},
   "outputs": [],
   "source": [
    "ez_display_json(res['data_shape_quality'])"
   ]
  },
  {
   "cell_type": "markdown",
   "id": "96ceda2a-751b-416d-861c-b05dd301c4ac",
   "metadata": {
    "jp-MarkdownHeadingCollapsed": true
   },
   "source": [
    "#### 4.2.8 Data Outliers? "
   ]
  },
  {
   "cell_type": "code",
   "execution_count": null,
   "id": "d1634bff-99c5-4c73-98d7-75b86466e969",
   "metadata": {},
   "outputs": [],
   "source": [
    "try:\n",
    "    outlier_df = pd.DataFrame(data=res['data_outliers_quality']['outliers']['data'], \\\n",
    "                              columns=res['data_outliers_quality']['outliers']['columns'], \\\n",
    "                              index=res['data_outliers_quality']['outliers']['indices'])\n",
    "    ez_display_df(outlier_df.head())\n",
    "except:\n",
    "    print (\"no outlier\")"
   ]
  },
  {
   "cell_type": "markdown",
   "id": "4e199efb-ca97-4bd5-98f3-6d3125a05d3f",
   "metadata": {
    "jp-MarkdownHeadingCollapsed": true
   },
   "source": [
    "#### 4.2.9 Data Drift (Between Train and Test Datasets)"
   ]
  },
  {
   "cell_type": "code",
   "execution_count": null,
   "id": "55f48f8e-487c-4ce1-9f19-665848bec64a",
   "metadata": {},
   "outputs": [],
   "source": [
    "ez_display_json(res['drift_quality']['data_drift_analysis'])"
   ]
  },
  {
   "cell_type": "code",
   "execution_count": null,
   "id": "559aa4cf-0e66-4eb8-bee9-33b7654adcb8",
   "metadata": {},
   "outputs": [],
   "source": [
    "ks_drift = res['drift_quality']['data_drift_analysis']['ks_data_drift_analysis']['feature : p_value']\n",
    "drift_columns = []\n",
    "for feature in ks_drift:\n",
    "    if ks_drift[feature] < 0.05:\n",
    "        drift_columns.append(feature)\n",
    "        print(feature, ks_drift[feature])"
   ]
  },
  {
   "cell_type": "markdown",
   "id": "f07219c7-d077-40ca-8c8c-e4ade4ad6c74",
   "metadata": {
    "jp-MarkdownHeadingCollapsed": true
   },
   "source": [
    "#### 4.2.10 Model Drift (Between Train and Test Datasets)"
   ]
  },
  {
   "cell_type": "code",
   "execution_count": null,
   "id": "6ff897e8-0f71-44ae-99e7-d3eee28b2a64",
   "metadata": {},
   "outputs": [],
   "source": [
    "ez_display_json(res['drift_quality']['model_drift_analysis'])"
   ]
  },
  {
   "cell_type": "code",
   "execution_count": null,
   "id": "0485634e-4821-4293-894c-8cee12708fd1",
   "metadata": {},
   "outputs": [],
   "source": [
    "interval_drift = res['drift_quality']['model_drift_analysis']['interval_model_drift_analysis']['feature : OF_I']\n",
    "model_drift_columns = []\n",
    "for feature in interval_drift:\n",
    "    if interval_drift[feature] < 0.05:\n",
    "        model_drift_columns.append(feature)\n",
    "        print(feature, interval_drift[feature])"
   ]
  },
  {
   "cell_type": "code",
   "execution_count": null,
   "id": "2bfb5205-0ede-4793-9d24-af68fbf28448",
   "metadata": {},
   "outputs": [],
   "source": []
  }
 ],
 "metadata": {
  "kernelspec": {
   "display_name": "Python 3 (ipykernel)",
   "language": "python",
   "name": "python3"
  },
  "language_info": {
   "codemirror_mode": {
    "name": "ipython",
    "version": 3
   },
   "file_extension": ".py",
   "mimetype": "text/x-python",
   "name": "python",
   "nbconvert_exporter": "python",
   "pygments_lexer": "ipython3",
   "version": "3.8.8"
  }
 },
 "nbformat": 4,
 "nbformat_minor": 5
}
