{
 "cells": [
  {
   "cell_type": "markdown",
   "id": "ed467247",
   "metadata": {},
   "source": [
    "## Import libraries"
   ]
  },
  {
   "cell_type": "code",
   "execution_count": null,
   "id": "6c4a4eaf",
   "metadata": {},
   "outputs": [],
   "source": [
    "import os\n",
    "from eazyml_genai.components import PDFLoader\n",
    "from eazyml_genai.components import (\n",
    "    QdrantDB,\n",
    ")\n",
    "from eazyml_genai.components import GoogleGM\n",
    "from eazyml_genai.components.vector_embedder.huggingface_embedder import (\n",
    "            HuggingfaceEmbedderModel,\n",
    "            HuggingfaceEmbedderProcessor\n",
    ")"
   ]
  },
  {
   "cell_type": "markdown",
   "id": "45227ac6",
   "metadata": {},
   "source": [
    "## Load data"
   ]
  },
  {
   "cell_type": "markdown",
   "id": "44874d5e",
   "metadata": {},
   "source": [
    "### Read PDF documents\n",
    "process pdf documents with unstructured data into semi-structured data or in json format"
   ]
  },
  {
   "cell_type": "code",
   "execution_count": null,
   "id": "04a7d961",
   "metadata": {},
   "outputs": [],
   "source": [
    "pdf_loader = PDFLoader(max_chunk_words=1000)\n",
    "documents = pdf_loader.load(file_path=r'data/yolo.pdf')"
   ]
  },
  {
   "cell_type": "markdown",
   "id": "d9bc13e3",
   "metadata": {},
   "source": [
    "## Index data"
   ]
  },
  {
   "cell_type": "markdown",
   "id": "0baa390f",
   "metadata": {},
   "source": [
    "### Index Document"
   ]
  },
  {
   "cell_type": "code",
   "execution_count": null,
   "id": "cd4f1dd4",
   "metadata": {},
   "outputs": [],
   "source": [
    "collection_name = 'yolo'\n",
    "qdrant_db = QdrantDB(location=':memory:')\n",
    "qdrant_db.index_documents(collection_name=collection_name,\n",
    "                          documents=documents,\n",
    "                          text_embedding_model=HuggingfaceEmbedderModel.ALL_MINILM_L6_V2,\n",
    "                          image_embedding_model=HuggingfaceEmbedderModel.CLIP_VIT_BASE_PATCH32,\n",
    "                          image_embedding_processor=HuggingfaceEmbedderProcessor.CLIP_VIT_BASE_PATCH32\n",
    "                          )"
   ]
  },
  {
   "cell_type": "markdown",
   "id": "8251a4e6",
   "metadata": {},
   "source": [
    "### Query document"
   ]
  },
  {
   "cell_type": "code",
   "execution_count": null,
   "id": "dd2483fe",
   "metadata": {},
   "outputs": [],
   "source": [
    "question = 'Value of mAP score of Fast R-CNN on experimental result on pascal voc 2007 data'\n",
    "total_hits = qdrant_db.retrieve_documents(collection_name, question, top_k=5)"
   ]
  },
  {
   "cell_type": "markdown",
   "id": "b6a9aeaf",
   "metadata": {},
   "source": [
    "## Generate Answer using Generative Model"
   ]
  },
  {
   "cell_type": "code",
   "execution_count": null,
   "id": "2444a8e2",
   "metadata": {},
   "outputs": [],
   "source": [
    "payloads = [hit.payload for hit in total_hits]"
   ]
  },
  {
   "cell_type": "code",
   "execution_count": null,
   "id": "2e3c8f87",
   "metadata": {},
   "outputs": [],
   "source": [
    "google_gm = GoogleGM(model=\"gemini-2.0-flash\",\n",
    "                     api_key=os.getenv('GEMINI_API_KEY'))\n",
    "response, input_tokens, output_tokens = google_gm.predict(question=question,\n",
    "                            payloads=payloads,\n",
    "                            show_token_details=True\n",
    "                            )"
   ]
  },
  {
   "cell_type": "code",
   "execution_count": null,
   "id": "289265c8",
   "metadata": {},
   "outputs": [],
   "source": [
    "print(google_gm.parse(response))"
   ]
  },
  {
   "cell_type": "code",
   "execution_count": null,
   "id": "f9aecc82",
   "metadata": {},
   "outputs": [],
   "source": [
    "output_tokens"
   ]
  },
  {
   "cell_type": "code",
   "execution_count": null,
   "id": "3cb65f3a",
   "metadata": {},
   "outputs": [],
   "source": [
    "input_tokens"
   ]
  },
  {
   "cell_type": "code",
   "execution_count": null,
   "id": "92a277b6",
   "metadata": {},
   "outputs": [],
   "source": []
  }
 ],
 "metadata": {
  "kernelspec": {
   "display_name": "py310",
   "language": "python",
   "name": "python3"
  },
  "language_info": {
   "codemirror_mode": {
    "name": "ipython",
    "version": 3
   },
   "file_extension": ".py",
   "mimetype": "text/x-python",
   "name": "python",
   "nbconvert_exporter": "python",
   "pygments_lexer": "ipython3",
   "version": "3.10.17"
  }
 },
 "nbformat": 4,
 "nbformat_minor": 5
}
