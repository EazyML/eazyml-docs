{
 "cells": [
  {
   "cell_type": "code",
   "execution_count": null,
   "metadata": {},
   "outputs": [],
   "source": [
    "import os\n",
    "from eazyml_genai.components import PDFLoader\n",
    "from eazyml_genai.components import PineconeDB\n",
    "from eazyml_genai.components import GoogleGM\n",
    "from eazyml_genai.components.vector_embedder.huggingface_embedder import (\n",
    "            HuggingfaceEmbedderModel,\n",
    "            HuggingfaceEmbedderProcessor\n",
    ")"
   ]
  },
  {
   "cell_type": "markdown",
   "metadata": {},
   "source": [
    "## Load data"
   ]
  },
  {
   "cell_type": "markdown",
   "metadata": {},
   "source": [
    "### Read PDF documents\n",
    "process pdf documents with unstructured data into semi-structured data or in json format"
   ]
  },
  {
   "cell_type": "code",
   "execution_count": null,
   "metadata": {},
   "outputs": [],
   "source": [
    "pdf_loader = PDFLoader(max_chunk_words=1000)\n",
    "documents = pdf_loader.load(file_path=r'data/yolo.pdf')"
   ]
  },
  {
   "cell_type": "markdown",
   "metadata": {},
   "source": [
    "## Index data"
   ]
  },
  {
   "cell_type": "markdown",
   "metadata": {},
   "source": [
    "### Index Document"
   ]
  },
  {
   "cell_type": "code",
   "execution_count": null,
   "metadata": {},
   "outputs": [],
   "source": [
    "pine_db = PineconeDB(api_key=os.getenv(\"PINECONE_API_KEY\"))\n",
    "# pine_db = PineconeDB(api_key=\"pclocal\", host=\"http://localhost:5080\")"
   ]
  },
  {
   "cell_type": "code",
   "execution_count": null,
   "metadata": {},
   "outputs": [],
   "source": [
    "collection_name = 'yolo'\n",
    "indexed_documents = pine_db.index_documents(\n",
    "                                collection_name=collection_name,\n",
    "                                documents=documents,\n",
    "                                text_embedding_model=HuggingfaceEmbedderModel.ALL_MINILM_L6_V2,\n",
    "                        )"
   ]
  },
  {
   "cell_type": "markdown",
   "metadata": {},
   "source": [
    "### Query document"
   ]
  },
  {
   "cell_type": "code",
   "execution_count": null,
   "metadata": {},
   "outputs": [],
   "source": [
    "question = \"number of convolutional layer\"\n",
    "results = pine_db.retrieve_documents(\n",
    "                                question=question\n",
    "                                )"
   ]
  },
  {
   "cell_type": "markdown",
   "metadata": {},
   "source": [
    "## Generate Answer using Generative Model"
   ]
  },
  {
   "cell_type": "code",
   "execution_count": null,
   "metadata": {},
   "outputs": [],
   "source": [
    "payloads = [i['metadata'] for i in results]"
   ]
  },
  {
   "cell_type": "code",
   "execution_count": null,
   "metadata": {},
   "outputs": [],
   "source": [
    "google_gm = GoogleGM(model=\"gemini-2.0-flash\",\n",
    "                     api_key=os.getenv('GEMINI_API_KEY'))\n",
    "response, input_tokens, output_tokens = google_gm.predict(question=question,\n",
    "                            payloads=payloads,\n",
    "                            show_token_details=True\n",
    "                            )"
   ]
  },
  {
   "cell_type": "code",
   "execution_count": null,
   "metadata": {},
   "outputs": [],
   "source": [
    "parsed_response = google_gm.parse(response=response)"
   ]
  },
  {
   "cell_type": "code",
   "execution_count": null,
   "metadata": {},
   "outputs": [],
   "source": [
    "parsed_response"
   ]
  },
  {
   "cell_type": "code",
   "execution_count": null,
   "metadata": {},
   "outputs": [],
   "source": [
    "input_tokens"
   ]
  },
  {
   "cell_type": "code",
   "execution_count": null,
   "metadata": {},
   "outputs": [],
   "source": []
  },
  {
   "cell_type": "code",
   "execution_count": null,
   "metadata": {},
   "outputs": [],
   "source": []
  }
 ],
 "metadata": {
  "kernelspec": {
   "display_name": "py310",
   "language": "python",
   "name": "python3"
  },
  "language_info": {
   "codemirror_mode": {
    "name": "ipython",
    "version": 3
   },
   "file_extension": ".py",
   "mimetype": "text/x-python",
   "name": "python",
   "nbconvert_exporter": "python",
   "pygments_lexer": "ipython3",
   "version": "3.10.17"
  }
 },
 "nbformat": 4,
 "nbformat_minor": 2
}
